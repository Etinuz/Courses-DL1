{
  "nbformat": 4,
  "nbformat_minor": 0,
  "metadata": {
    "colab": {
      "name": "Lesson 3 - SMS Spam Classifier (NLP).ipynb",
      "version": "0.3.2",
      "provenance": [],
      "collapsed_sections": [],
      "include_colab_link": true
    },
    "kernelspec": {
      "name": "python3",
      "display_name": "Python 3"
    },
    "accelerator": "GPU"
  },
  "cells": [
    {
      "cell_type": "markdown",
      "metadata": {
        "id": "view-in-github",
        "colab_type": "text"
      },
      "source": [
        "<a href=\"https://colab.research.google.com/github/Etinuz/Courses-DL1/blob/master/Lesson_3_SMS_Spam_Classifier_(NLP).ipynb\" target=\"_parent\"><img src=\"https://colab.research.google.com/assets/colab-badge.svg\" alt=\"Open In Colab\"/></a>"
      ]
    },
    {
      "metadata": {
        "id": "a9EJrWq5jn-c",
        "colab_type": "text"
      },
      "cell_type": "markdown",
      "source": [
        "#  Lesson 3 - SMS Spam (NLP)\n",
        "\n"
      ]
    },
    {
      "metadata": {
        "id": "O4pp-s1njn-g",
        "colab_type": "text"
      },
      "cell_type": "markdown",
      "source": [
        "This notebook is based on the lesson 3 IMDB notebook of the FAST.AI course v3 part 1.\n",
        "\n",
        "The SMS Spam Collection is a set of SMS tagged messages that have been collected for SMS Spam research. It contains one set of SMS messages in English of 5,574 messages, tagged acording being ham (legitimate) or spam. \n",
        "\n",
        "https://www.kaggle.com/uciml/sms-spam-collection-dataset\n",
        "\n"
      ]
    },
    {
      "metadata": {
        "id": "Di12MRrrjn-i",
        "colab_type": "code",
        "colab": {}
      },
      "cell_type": "code",
      "source": [
        "#RUNTIME IN GPU?\n",
        "\n"
      ],
      "execution_count": 0,
      "outputs": []
    },
    {
      "metadata": {
        "id": "kuQ0kWB7X9AH",
        "colab_type": "code",
        "outputId": "41ea6c35-d06a-445d-ba33-b7353254d263",
        "colab": {
          "base_uri": "https://localhost:8080/",
          "height": 817
        }
      },
      "cell_type": "code",
      "source": [
        "#download the latest fast ai library\n",
        "#!pip3 install fastai==1.0.45"
      ],
      "execution_count": 0,
      "outputs": [
        {
          "output_type": "stream",
          "text": [
            "Requirement already satisfied: fastai==1.0.45 in /usr/local/lib/python3.6/dist-packages (1.0.45)\n",
            "Requirement already satisfied: typing in /usr/local/lib/python3.6/dist-packages (from fastai==1.0.45) (3.6.6)\n",
            "Requirement already satisfied: fastprogress>=0.1.19 in /usr/local/lib/python3.6/dist-packages (from fastai==1.0.45) (0.1.19)\n",
            "Requirement already satisfied: Pillow in /usr/local/lib/python3.6/dist-packages (from fastai==1.0.45) (4.0.0)\n",
            "Requirement already satisfied: scipy in /usr/local/lib/python3.6/dist-packages (from fastai==1.0.45) (1.1.0)\n",
            "Requirement already satisfied: spacy>=2.0.18 in /usr/local/lib/python3.6/dist-packages (from fastai==1.0.45) (2.0.18)\n",
            "Requirement already satisfied: beautifulsoup4 in /usr/local/lib/python3.6/dist-packages (from fastai==1.0.45) (4.6.3)\n",
            "Requirement already satisfied: torch>=1.0.0 in /usr/local/lib/python3.6/dist-packages (from fastai==1.0.45) (1.0.1.post2)\n",
            "Requirement already satisfied: numpy>=1.12 in /usr/local/lib/python3.6/dist-packages (from fastai==1.0.45) (1.14.6)\n",
            "Requirement already satisfied: bottleneck in /usr/local/lib/python3.6/dist-packages (from fastai==1.0.45) (1.2.1)\n",
            "Requirement already satisfied: pyyaml in /usr/local/lib/python3.6/dist-packages (from fastai==1.0.45) (3.13)\n",
            "Requirement already satisfied: requests in /usr/local/lib/python3.6/dist-packages (from fastai==1.0.45) (2.18.4)\n",
            "Requirement already satisfied: pandas in /usr/local/lib/python3.6/dist-packages (from fastai==1.0.45) (0.22.0)\n",
            "Requirement already satisfied: torchvision in /usr/local/lib/python3.6/dist-packages (from fastai==1.0.45) (0.2.1)\n",
            "Requirement already satisfied: nvidia-ml-py3 in /usr/local/lib/python3.6/dist-packages (from fastai==1.0.45) (7.352.0)\n",
            "Requirement already satisfied: packaging in /usr/local/lib/python3.6/dist-packages (from fastai==1.0.45) (19.0)\n",
            "Requirement already satisfied: matplotlib in /usr/local/lib/python3.6/dist-packages (from fastai==1.0.45) (3.0.2)\n",
            "Requirement already satisfied: numexpr in /usr/local/lib/python3.6/dist-packages (from fastai==1.0.45) (2.6.9)\n",
            "Requirement already satisfied: dataclasses; python_version < \"3.7\" in /usr/local/lib/python3.6/dist-packages (from fastai==1.0.45) (0.6)\n",
            "Requirement already satisfied: olefile in /usr/local/lib/python3.6/dist-packages (from Pillow->fastai==1.0.45) (0.46)\n",
            "Requirement already satisfied: murmurhash<1.1.0,>=0.28.0 in /usr/local/lib/python3.6/dist-packages (from spacy>=2.0.18->fastai==1.0.45) (1.0.1)\n",
            "Requirement already satisfied: plac<1.0.0,>=0.9.6 in /usr/local/lib/python3.6/dist-packages (from spacy>=2.0.18->fastai==1.0.45) (0.9.6)\n",
            "Requirement already satisfied: ujson>=1.35 in /usr/local/lib/python3.6/dist-packages (from spacy>=2.0.18->fastai==1.0.45) (1.35)\n",
            "Requirement already satisfied: regex==2018.01.10 in /usr/local/lib/python3.6/dist-packages (from spacy>=2.0.18->fastai==1.0.45) (2018.1.10)\n",
            "Requirement already satisfied: preshed<2.1.0,>=2.0.1 in /usr/local/lib/python3.6/dist-packages (from spacy>=2.0.18->fastai==1.0.45) (2.0.1)\n",
            "Requirement already satisfied: thinc<6.13.0,>=6.12.1 in /usr/local/lib/python3.6/dist-packages (from spacy>=2.0.18->fastai==1.0.45) (6.12.1)\n",
            "Requirement already satisfied: cymem<2.1.0,>=2.0.2 in /usr/local/lib/python3.6/dist-packages (from spacy>=2.0.18->fastai==1.0.45) (2.0.2)\n",
            "Requirement already satisfied: dill<0.3,>=0.2 in /usr/local/lib/python3.6/dist-packages (from spacy>=2.0.18->fastai==1.0.45) (0.2.9)\n",
            "Requirement already satisfied: idna<2.7,>=2.5 in /usr/local/lib/python3.6/dist-packages (from requests->fastai==1.0.45) (2.6)\n",
            "Requirement already satisfied: chardet<3.1.0,>=3.0.2 in /usr/local/lib/python3.6/dist-packages (from requests->fastai==1.0.45) (3.0.4)\n",
            "Requirement already satisfied: urllib3<1.23,>=1.21.1 in /usr/local/lib/python3.6/dist-packages (from requests->fastai==1.0.45) (1.22)\n",
            "Requirement already satisfied: certifi>=2017.4.17 in /usr/local/lib/python3.6/dist-packages (from requests->fastai==1.0.45) (2018.11.29)\n",
            "Requirement already satisfied: python-dateutil>=2 in /usr/local/lib/python3.6/dist-packages (from pandas->fastai==1.0.45) (2.5.3)\n",
            "Requirement already satisfied: pytz>=2011k in /usr/local/lib/python3.6/dist-packages (from pandas->fastai==1.0.45) (2018.9)\n",
            "Requirement already satisfied: six in /usr/local/lib/python3.6/dist-packages (from torchvision->fastai==1.0.45) (1.11.0)\n",
            "Requirement already satisfied: pyparsing>=2.0.2 in /usr/local/lib/python3.6/dist-packages (from packaging->fastai==1.0.45) (2.3.1)\n",
            "Requirement already satisfied: cycler>=0.10 in /usr/local/lib/python3.6/dist-packages (from matplotlib->fastai==1.0.45) (0.10.0)\n",
            "Requirement already satisfied: kiwisolver>=1.0.1 in /usr/local/lib/python3.6/dist-packages (from matplotlib->fastai==1.0.45) (1.0.1)\n",
            "Requirement already satisfied: cytoolz<0.10,>=0.9.0 in /usr/local/lib/python3.6/dist-packages (from thinc<6.13.0,>=6.12.1->spacy>=2.0.18->fastai==1.0.45) (0.9.0.1)\n",
            "Requirement already satisfied: tqdm<5.0.0,>=4.10.0 in /usr/local/lib/python3.6/dist-packages (from thinc<6.13.0,>=6.12.1->spacy>=2.0.18->fastai==1.0.45) (4.28.1)\n",
            "Requirement already satisfied: msgpack<0.6.0,>=0.5.6 in /usr/local/lib/python3.6/dist-packages (from thinc<6.13.0,>=6.12.1->spacy>=2.0.18->fastai==1.0.45) (0.5.6)\n",
            "Requirement already satisfied: wrapt<1.11.0,>=1.10.0 in /usr/local/lib/python3.6/dist-packages (from thinc<6.13.0,>=6.12.1->spacy>=2.0.18->fastai==1.0.45) (1.10.11)\n",
            "Requirement already satisfied: msgpack-numpy<0.4.4 in /usr/local/lib/python3.6/dist-packages (from thinc<6.13.0,>=6.12.1->spacy>=2.0.18->fastai==1.0.45) (0.4.3.2)\n",
            "Requirement already satisfied: setuptools in /usr/local/lib/python3.6/dist-packages (from kiwisolver>=1.0.1->matplotlib->fastai==1.0.45) (40.8.0)\n",
            "Requirement already satisfied: toolz>=0.8.0 in /usr/local/lib/python3.6/dist-packages (from cytoolz<0.10,>=0.9.0->thinc<6.13.0,>=6.12.1->spacy>=2.0.18->fastai==1.0.45) (0.9.0)\n"
          ],
          "name": "stdout"
        }
      ]
    },
    {
      "metadata": {
        "id": "jwEuJpykjn-q",
        "colab_type": "code",
        "outputId": "0c0e9edb-fef3-4693-8f23-ee8672238765",
        "colab": {
          "base_uri": "https://localhost:8080/",
          "height": 34
        }
      },
      "cell_type": "code",
      "source": [
        "\n",
        "from fastai.text import *\n",
        "import fastai\n",
        "fastai.__version__"
      ],
      "execution_count": 1,
      "outputs": [
        {
          "output_type": "execute_result",
          "data": {
            "text/plain": [
              "'1.0.46'"
            ]
          },
          "metadata": {
            "tags": []
          },
          "execution_count": 1
        }
      ]
    },
    {
      "metadata": {
        "id": "BDbxjYxwo0NH",
        "colab_type": "code",
        "colab": {}
      },
      "cell_type": "code",
      "source": [
        "np.random.seed(42)"
      ],
      "execution_count": 0,
      "outputs": []
    },
    {
      "metadata": {
        "id": "3a5EwgUejn-w",
        "colab_type": "text"
      },
      "cell_type": "markdown",
      "source": [
        "## Preparing the data"
      ]
    },
    {
      "metadata": {
        "id": "-yS6a9lPjn-y",
        "colab_type": "code",
        "outputId": "61442f2a-bfad-4b53-abbb-a9c5d50169ce",
        "colab": {
          "base_uri": "https://localhost:8080/",
          "height": 445
        }
      },
      "cell_type": "code",
      "source": [
        "#download the dataset\n",
        "!wget https://www.dropbox.com/s/abykxcskvpfrcv8/spam.zip?dl=0"
      ],
      "execution_count": 3,
      "outputs": [
        {
          "output_type": "stream",
          "text": [
            "--2019-03-03 13:04:39--  https://www.dropbox.com/s/abykxcskvpfrcv8/spam.zip?dl=0\n",
            "Resolving www.dropbox.com (www.dropbox.com)... 162.125.82.1, 2620:100:6032:1::a27d:5201\n",
            "Connecting to www.dropbox.com (www.dropbox.com)|162.125.82.1|:443... connected.\n",
            "HTTP request sent, awaiting response... 301 Moved Permanently\n",
            "Location: /s/raw/abykxcskvpfrcv8/spam.zip [following]\n",
            "--2019-03-03 13:04:44--  https://www.dropbox.com/s/raw/abykxcskvpfrcv8/spam.zip\n",
            "Reusing existing connection to www.dropbox.com:443.\n",
            "HTTP request sent, awaiting response... 302 Found\n",
            "Location: https://uc8ca813f849ed070b9aa834f4fd.dl.dropboxusercontent.com/cd/0/inline/AcZXHTLICvRRGuTYKytYS1hov41HozAsEnpMQYBJr6XI5KPzrIn80KwTU5mfCS5pcKdw1qRxXotbmSkO1RdxVyaizeVyf585ERXRDw-dEmDE29-OEXWqwssBhk2hF9Oy0EI/file# [following]\n",
            "--2019-03-03 13:04:45--  https://uc8ca813f849ed070b9aa834f4fd.dl.dropboxusercontent.com/cd/0/inline/AcZXHTLICvRRGuTYKytYS1hov41HozAsEnpMQYBJr6XI5KPzrIn80KwTU5mfCS5pcKdw1qRxXotbmSkO1RdxVyaizeVyf585ERXRDw-dEmDE29-OEXWqwssBhk2hF9Oy0EI/file\n",
            "Resolving uc8ca813f849ed070b9aa834f4fd.dl.dropboxusercontent.com (uc8ca813f849ed070b9aa834f4fd.dl.dropboxusercontent.com)... 162.125.82.6, 2620:100:6032:6::a27d:5206\n",
            "Connecting to uc8ca813f849ed070b9aa834f4fd.dl.dropboxusercontent.com (uc8ca813f849ed070b9aa834f4fd.dl.dropboxusercontent.com)|162.125.82.6|:443... connected.\n",
            "HTTP request sent, awaiting response... 302 FOUND\n",
            "Location: /cd/0/inline2/AcZ_ozD0UTEaep3OEdOtVzPlg8yKFPAlUqnfQujFIMISJe1PLyKYjFhGJxWKHyAcFTZpxBv9I_Fj4Jj0zc0r4I_PAJNmy26bsC53LPhldSljOvbOweFXYKN5Vb9JAweRZNn86NN9FS-puCV1OItUrIOCa_osETBCcpYG6jwpqeYD5QvaV6xLeh01AbzfCfmMPgqNu8Q3Csw1aj65o0AQB-gJj99xoHtWuv8w9QS1aaPoFYl4N4W6vCX671BQ8wBTjiqDfuwPi0jzLkWsu_9zSXOGppXkZXN825mDG1iUFv9mNaLZFJYl2RTME1kkUKXjpf0US5dWJ_yybc2Hm6cYb0TRtB1neOs7UH4HN4oDQsS__A/file [following]\n",
            "--2019-03-03 13:04:45--  https://uc8ca813f849ed070b9aa834f4fd.dl.dropboxusercontent.com/cd/0/inline2/AcZ_ozD0UTEaep3OEdOtVzPlg8yKFPAlUqnfQujFIMISJe1PLyKYjFhGJxWKHyAcFTZpxBv9I_Fj4Jj0zc0r4I_PAJNmy26bsC53LPhldSljOvbOweFXYKN5Vb9JAweRZNn86NN9FS-puCV1OItUrIOCa_osETBCcpYG6jwpqeYD5QvaV6xLeh01AbzfCfmMPgqNu8Q3Csw1aj65o0AQB-gJj99xoHtWuv8w9QS1aaPoFYl4N4W6vCX671BQ8wBTjiqDfuwPi0jzLkWsu_9zSXOGppXkZXN825mDG1iUFv9mNaLZFJYl2RTME1kkUKXjpf0US5dWJ_yybc2Hm6cYb0TRtB1neOs7UH4HN4oDQsS__A/file\n",
            "Reusing existing connection to uc8ca813f849ed070b9aa834f4fd.dl.dropboxusercontent.com:443.\n",
            "HTTP request sent, awaiting response... 200 OK\n",
            "Length: 205859 (201K) [application/zip]\n",
            "Saving to: ‘spam.zip?dl=0’\n",
            "\n",
            "spam.zip?dl=0       100%[===================>] 201.03K  --.-KB/s    in 0.05s   \n",
            "\n",
            "2019-03-03 13:04:46 (4.25 MB/s) - ‘spam.zip?dl=0’ saved [205859/205859]\n",
            "\n"
          ],
          "name": "stdout"
        }
      ]
    },
    {
      "metadata": {
        "id": "LT-Dx1OXjn-3",
        "colab_type": "code",
        "outputId": "044733d6-b279-426e-8178-18882aa8ab88",
        "colab": {
          "base_uri": "https://localhost:8080/",
          "height": 68
        }
      },
      "cell_type": "code",
      "source": [
        "!unzip spam.zip?dl=0"
      ],
      "execution_count": 4,
      "outputs": [
        {
          "output_type": "stream",
          "text": [
            "Archive:  spam.zip?dl=0\n",
            "  inflating: test.csv                \n",
            "  inflating: train.csv               \n"
          ],
          "name": "stdout"
        }
      ]
    },
    {
      "metadata": {
        "id": "jcXQjirVjn-7",
        "colab_type": "code",
        "outputId": "3d24b2b7-a158-478e-de18-c91d98f4639a",
        "colab": {
          "base_uri": "https://localhost:8080/",
          "height": 102
        }
      },
      "cell_type": "code",
      "source": [
        "path = Path(\"./\")\n",
        "path.ls()\n",
        "\n",
        "#There is a train.csv and a test.csv"
      ],
      "execution_count": 5,
      "outputs": [
        {
          "output_type": "execute_result",
          "data": {
            "text/plain": [
              "[PosixPath('.config'),\n",
              " PosixPath('train.csv'),\n",
              " PosixPath('spam.zip?dl=0'),\n",
              " PosixPath('test.csv'),\n",
              " PosixPath('sample_data')]"
            ]
          },
          "metadata": {
            "tags": []
          },
          "execution_count": 5
        }
      ]
    },
    {
      "metadata": {
        "id": "jh4HPrs5jn_E",
        "colab_type": "code",
        "outputId": "dda439a2-ebf1-4d5b-f397-385ae26327c4",
        "colab": {
          "base_uri": "https://localhost:8080/",
          "height": 204
        }
      },
      "cell_type": "code",
      "source": [
        "train_df = pd.read_csv('train.csv',encoding='latin-1' ) #encoding because it is an old file\n",
        "train_df.head()"
      ],
      "execution_count": 6,
      "outputs": [
        {
          "output_type": "execute_result",
          "data": {
            "text/html": [
              "<div>\n",
              "<style scoped>\n",
              "    .dataframe tbody tr th:only-of-type {\n",
              "        vertical-align: middle;\n",
              "    }\n",
              "\n",
              "    .dataframe tbody tr th {\n",
              "        vertical-align: top;\n",
              "    }\n",
              "\n",
              "    .dataframe thead th {\n",
              "        text-align: right;\n",
              "    }\n",
              "</style>\n",
              "<table border=\"1\" class=\"dataframe\">\n",
              "  <thead>\n",
              "    <tr style=\"text-align: right;\">\n",
              "      <th></th>\n",
              "      <th>v1</th>\n",
              "      <th>v2</th>\n",
              "      <th>Unnamed: 2</th>\n",
              "      <th>Unnamed: 3</th>\n",
              "      <th>Unnamed: 4</th>\n",
              "    </tr>\n",
              "  </thead>\n",
              "  <tbody>\n",
              "    <tr>\n",
              "      <th>0</th>\n",
              "      <td>ham</td>\n",
              "      <td>Go until jurong point, crazy.. Available only ...</td>\n",
              "      <td>NaN</td>\n",
              "      <td>NaN</td>\n",
              "      <td>NaN</td>\n",
              "    </tr>\n",
              "    <tr>\n",
              "      <th>1</th>\n",
              "      <td>ham</td>\n",
              "      <td>Ok lar... Joking wif u oni...</td>\n",
              "      <td>NaN</td>\n",
              "      <td>NaN</td>\n",
              "      <td>NaN</td>\n",
              "    </tr>\n",
              "    <tr>\n",
              "      <th>2</th>\n",
              "      <td>spam</td>\n",
              "      <td>Free entry in 2 a wkly comp to win FA Cup fina...</td>\n",
              "      <td>NaN</td>\n",
              "      <td>NaN</td>\n",
              "      <td>NaN</td>\n",
              "    </tr>\n",
              "    <tr>\n",
              "      <th>3</th>\n",
              "      <td>ham</td>\n",
              "      <td>U dun say so early hor... U c already then say...</td>\n",
              "      <td>NaN</td>\n",
              "      <td>NaN</td>\n",
              "      <td>NaN</td>\n",
              "    </tr>\n",
              "    <tr>\n",
              "      <th>4</th>\n",
              "      <td>ham</td>\n",
              "      <td>Nah I don't think he goes to usf, he lives aro...</td>\n",
              "      <td>NaN</td>\n",
              "      <td>NaN</td>\n",
              "      <td>NaN</td>\n",
              "    </tr>\n",
              "  </tbody>\n",
              "</table>\n",
              "</div>"
            ],
            "text/plain": [
              "     v1                                                 v2 Unnamed: 2  \\\n",
              "0   ham  Go until jurong point, crazy.. Available only ...        NaN   \n",
              "1   ham                      Ok lar... Joking wif u oni...        NaN   \n",
              "2  spam  Free entry in 2 a wkly comp to win FA Cup fina...        NaN   \n",
              "3   ham  U dun say so early hor... U c already then say...        NaN   \n",
              "4   ham  Nah I don't think he goes to usf, he lives aro...        NaN   \n",
              "\n",
              "  Unnamed: 3 Unnamed: 4  \n",
              "0        NaN        NaN  \n",
              "1        NaN        NaN  \n",
              "2        NaN        NaN  \n",
              "3        NaN        NaN  \n",
              "4        NaN        NaN  "
            ]
          },
          "metadata": {
            "tags": []
          },
          "execution_count": 6
        }
      ]
    },
    {
      "metadata": {
        "id": "6-_aq8lMjn_M",
        "colab_type": "code",
        "colab": {}
      },
      "cell_type": "code",
      "source": [
        "test_df = pd.read_csv('test.csv',encoding='latin-1' )\n"
      ],
      "execution_count": 0,
      "outputs": []
    },
    {
      "metadata": {
        "id": "NtdOQ-H-jn_X",
        "colab_type": "code",
        "outputId": "f14dccb1-bb9a-42a5-c972-3937fe572b0b",
        "colab": {
          "base_uri": "https://localhost:8080/",
          "height": 255
        }
      },
      "cell_type": "code",
      "source": [
        "#cleaning the dataset removing some columns and renaming them\n",
        "\n",
        "for df in [test_df, train_df]:\n",
        "    df.drop(['Unnamed: 2', 'Unnamed: 3', 'Unnamed: 4'],axis=1,inplace=True)\n",
        "    df.rename(columns={'v1': 'label', 'v2':'text'}, inplace=True)\n",
        "    df.info()"
      ],
      "execution_count": 8,
      "outputs": [
        {
          "output_type": "stream",
          "text": [
            "<class 'pandas.core.frame.DataFrame'>\n",
            "RangeIndex: 25 entries, 0 to 24\n",
            "Data columns (total 2 columns):\n",
            "label    25 non-null object\n",
            "text     25 non-null object\n",
            "dtypes: object(2)\n",
            "memory usage: 480.0+ bytes\n",
            "<class 'pandas.core.frame.DataFrame'>\n",
            "RangeIndex: 5547 entries, 0 to 5546\n",
            "Data columns (total 2 columns):\n",
            "label    5547 non-null object\n",
            "text     5547 non-null object\n",
            "dtypes: object(2)\n",
            "memory usage: 86.8+ KB\n"
          ],
          "name": "stdout"
        }
      ]
    },
    {
      "metadata": {
        "id": "baPfz83Pjn_g",
        "colab_type": "code",
        "outputId": "c55b8722-53b7-4e26-aa34-6533e0e7123e",
        "colab": {
          "base_uri": "https://localhost:8080/",
          "height": 204
        }
      },
      "cell_type": "code",
      "source": [
        "train_df.head()"
      ],
      "execution_count": 9,
      "outputs": [
        {
          "output_type": "execute_result",
          "data": {
            "text/html": [
              "<div>\n",
              "<style scoped>\n",
              "    .dataframe tbody tr th:only-of-type {\n",
              "        vertical-align: middle;\n",
              "    }\n",
              "\n",
              "    .dataframe tbody tr th {\n",
              "        vertical-align: top;\n",
              "    }\n",
              "\n",
              "    .dataframe thead th {\n",
              "        text-align: right;\n",
              "    }\n",
              "</style>\n",
              "<table border=\"1\" class=\"dataframe\">\n",
              "  <thead>\n",
              "    <tr style=\"text-align: right;\">\n",
              "      <th></th>\n",
              "      <th>label</th>\n",
              "      <th>text</th>\n",
              "    </tr>\n",
              "  </thead>\n",
              "  <tbody>\n",
              "    <tr>\n",
              "      <th>0</th>\n",
              "      <td>ham</td>\n",
              "      <td>Go until jurong point, crazy.. Available only ...</td>\n",
              "    </tr>\n",
              "    <tr>\n",
              "      <th>1</th>\n",
              "      <td>ham</td>\n",
              "      <td>Ok lar... Joking wif u oni...</td>\n",
              "    </tr>\n",
              "    <tr>\n",
              "      <th>2</th>\n",
              "      <td>spam</td>\n",
              "      <td>Free entry in 2 a wkly comp to win FA Cup fina...</td>\n",
              "    </tr>\n",
              "    <tr>\n",
              "      <th>3</th>\n",
              "      <td>ham</td>\n",
              "      <td>U dun say so early hor... U c already then say...</td>\n",
              "    </tr>\n",
              "    <tr>\n",
              "      <th>4</th>\n",
              "      <td>ham</td>\n",
              "      <td>Nah I don't think he goes to usf, he lives aro...</td>\n",
              "    </tr>\n",
              "  </tbody>\n",
              "</table>\n",
              "</div>"
            ],
            "text/plain": [
              "  label                                               text\n",
              "0   ham  Go until jurong point, crazy.. Available only ...\n",
              "1   ham                      Ok lar... Joking wif u oni...\n",
              "2  spam  Free entry in 2 a wkly comp to win FA Cup fina...\n",
              "3   ham  U dun say so early hor... U c already then say...\n",
              "4   ham  Nah I don't think he goes to usf, he lives aro..."
            ]
          },
          "metadata": {
            "tags": []
          },
          "execution_count": 9
        }
      ]
    },
    {
      "metadata": {
        "id": "USrERHegyIyh",
        "colab_type": "code",
        "outputId": "f6694e21-a306-4450-d339-b3b127e4c678",
        "colab": {
          "base_uri": "https://localhost:8080/",
          "height": 34
        }
      },
      "cell_type": "code",
      "source": [
        "train_df.shape"
      ],
      "execution_count": 10,
      "outputs": [
        {
          "output_type": "execute_result",
          "data": {
            "text/plain": [
              "(5547, 2)"
            ]
          },
          "metadata": {
            "tags": []
          },
          "execution_count": 10
        }
      ]
    },
    {
      "metadata": {
        "id": "TR-r8cC7jn_m",
        "colab_type": "text"
      },
      "cell_type": "markdown",
      "source": [
        "## Language model"
      ]
    },
    {
      "metadata": {
        "id": "s62oa8gmjn_o",
        "colab_type": "text"
      },
      "cell_type": "markdown",
      "source": [
        "Note that language models can use a lot of GPU, so you may need to decrease batchsize here."
      ]
    },
    {
      "metadata": {
        "id": "ZKhIZ6-ujn_p",
        "colab_type": "code",
        "colab": {}
      },
      "cell_type": "code",
      "source": [
        "bs=32 #decrease this size if you run out of GPU memory"
      ],
      "execution_count": 0,
      "outputs": []
    },
    {
      "metadata": {
        "id": "e0dGftLejn_u",
        "colab_type": "text"
      },
      "cell_type": "markdown",
      "source": [
        "Now let's grab the full dataset for what follows."
      ]
    },
    {
      "metadata": {
        "id": "rYi9OaqWjn_w",
        "colab_type": "text"
      },
      "cell_type": "markdown",
      "source": [
        "We can use the data block API with NLP and have a lot more flexibility than what the default factory methods offer. In the previous example for instance, the data was randomly split between train and validation instead of reading the third column of the csv.\n",
        "\n",
        "With the data block API though, we have to manually call the tokenize and numericalize steps. This allows more flexibility, and if you're not using the defaults from fastai, the variaous arguments to pass will appear in the step they're revelant, so it'll be more readable."
      ]
    },
    {
      "metadata": {
        "id": "Pt8kPpn1jn_w",
        "colab_type": "text"
      },
      "cell_type": "markdown",
      "source": [
        "This is where the unlabelled data is going to be useful to us, as we can use it to fine-tune our model. Let's create our data object with the data block API (next line takes a few minutes)."
      ]
    },
    {
      "metadata": {
        "id": "2lj9xuq_ydQI",
        "colab_type": "code",
        "colab": {}
      },
      "cell_type": "code",
      "source": [
        "??NumericalizeProcessor #take a look at the default settings"
      ],
      "execution_count": 0,
      "outputs": []
    },
    {
      "metadata": {
        "id": "jFOrsTOajn_y",
        "colab_type": "code",
        "colab": {}
      },
      "cell_type": "code",
      "source": [
        "#here you can make some adjustments to the default settings\n",
        "txt_proc = [\n",
        "    TokenizeProcessor(tokenizer=Tokenizer(lang='en'), mark_fields=True),\n",
        "    NumericalizeProcessor(min_freq=1, max_vocab=60000) \n",
        "]"
      ],
      "execution_count": 0,
      "outputs": []
    },
    {
      "metadata": {
        "id": "DY7C6zNCjn_1",
        "colab_type": "code",
        "colab": {}
      },
      "cell_type": "code",
      "source": [
        "data_lm = (TextList.from_df(train_df, cols='text', processor=txt_proc)\n",
        "              .random_split_by_pct(0.1)\n",
        "           #We randomly split and keep 10% for validation\n",
        "            .label_for_lm()           \n",
        "           #We want to do a language model so we label accordingly\n",
        "            .databunch(bs=bs))\n",
        "data_lm.save('tmp_lm')"
      ],
      "execution_count": 0,
      "outputs": []
    },
    {
      "metadata": {
        "id": "ZM2iul28jn_8",
        "colab_type": "text"
      },
      "cell_type": "markdown",
      "source": [
        "We have to use a special kind of `TextDataBunch` for the language model, that ignores the labels (that's why we put 0 everywhere), will shuffle the texts at each epoch before concatenating them all together (only for training, we don't shuffle for the validation set) and will send batches that read that text in order with targets that are the next word in the sentence.\n",
        "\n",
        "The line before being a bit long, we want to load quickly the final ids by using the following cell."
      ]
    },
    {
      "metadata": {
        "id": "18FaBOz_joAE",
        "colab_type": "code",
        "outputId": "1b950b38-b6c3-4555-9dde-939f92c0205a",
        "colab": {
          "base_uri": "https://localhost:8080/",
          "height": 289
        }
      },
      "cell_type": "code",
      "source": [
        "data_lm.show_batch()"
      ],
      "execution_count": 15,
      "outputs": [
        {
          "output_type": "display_data",
          "data": {
            "text/html": [
              "<table border=\"1\" class=\"dataframe\">\n",
              "  <thead>\n",
              "    <tr style=\"text-align: right;\">\n",
              "      <th>idx</th>\n",
              "      <th>text</th>\n",
              "    </tr>\n",
              "  </thead>\n",
              "  <tbody>\n",
              "    <tr>\n",
              "      <td>0</td>\n",
              "      <td>fa to 87121 to receive entry question(std txt rate)t&amp;c 's apply 08452810075over18 's xxbos xxfld 1 u dun say so early hor ... u c already then say ... xxbos xxfld 1 xxmaj nah i do n't think he goes to usf , he lives around here though xxbos xxfld 1 freemsg xxmaj hey there darling it 's been 3 week 's now and no word back ! i 'd</td>\n",
              "    </tr>\n",
              "    <tr>\n",
              "      <td>1</td>\n",
              "      <td>you . i 'm excited each day i spend with you . xxmaj you make me so happy . xxbos xxfld 1 xxup -pls xxup stop bootydelious ( 32 / f ) is inviting you to be her friend . xxmaj reply xxup yes-434 or xxup no-434 xxmaj see her : www . sms.ac / u / bootydelious xxup stop ? xxmaj send xxup stop xxup frnd to 62468 xxbos</td>\n",
              "    </tr>\n",
              "    <tr>\n",
              "      <td>2</td>\n",
              "      <td>fancy a shag ? i do . xxmaj interested ? sextextuk.com txt xxup xxuk xxup suzy to 69876 . xxmaj txts cost 1.50 per msg . tncs on website . x xxbos xxfld 1 xxmaj just checking in on you . xxmaj really do miss seeing xxmaj jeremiah . xxmaj do have a great month xxbos xxfld 1 xxmaj nah ca n't help you there , i 've never had</td>\n",
              "    </tr>\n",
              "    <tr>\n",
              "      <td>3</td>\n",
              "      <td>xxmaj no . was awarded a å£2,000 xxmaj bonus xxmaj caller xxmaj prize on 02 / 09 / 03 ! xxmaj this is our 2nd attempt to contact xxup you ! xxmaj call 0871 - 872 - 9755 xxup box95qu xxbos xxfld 1 xxmaj hi i wo n't b ard 4 christmas . xxmaj but do enjoy n merry x'mas . xxbos xxfld 1 xxmaj today 's xxmaj offer !</td>\n",
              "    </tr>\n",
              "    <tr>\n",
              "      <td>4</td>\n",
              "      <td>alerts reply with the word xxup out xxbos xxfld 1 4mths half price xxmaj orange line rental &amp; latest camera phones 4 xxup free . xxmaj had your phone 11mths+ ? xxmaj call mobilesdirect free on 08000938767 to update now ! or2stoptxt t&amp;cs xxbos xxfld 1 xxmaj height of xxmaj confidence : xxmaj all the xxmaj aeronautics professors wer calld &amp; &amp; they wer askd 2 sit in an aeroplane</td>\n",
              "    </tr>\n",
              "  </tbody>\n",
              "</table>"
            ],
            "text/plain": [
              "<IPython.core.display.HTML object>"
            ]
          },
          "metadata": {
            "tags": []
          }
        }
      ]
    },
    {
      "metadata": {
        "id": "FbWghxFRjoAM",
        "colab_type": "text"
      },
      "cell_type": "markdown",
      "source": [
        "We can then put this in a learner object very easily with a model loaded with the pretrained weights. They'll be downloaded the first time you'll execute the following line and stored in `~/.fastai/models/` (or elsewhere if you specified different paths in your config file)."
      ]
    },
    {
      "metadata": {
        "id": "I4dNOHtPVjYq",
        "colab_type": "code",
        "outputId": "7c7b3717-5c21-4624-ab2a-65fb00ac48cf",
        "colab": {
          "base_uri": "https://localhost:8080/",
          "height": 34
        }
      },
      "cell_type": "code",
      "source": [
        "data_lm.train_ds.x[1] #text"
      ],
      "execution_count": 16,
      "outputs": [
        {
          "output_type": "execute_result",
          "data": {
            "text/plain": [
              "<fastai.text.data.Text at 0x7f3e6f4fc630>"
            ]
          },
          "metadata": {
            "tags": []
          },
          "execution_count": 16
        }
      ]
    },
    {
      "metadata": {
        "id": "hbJ7GTIOVPhU",
        "colab_type": "code",
        "outputId": "c1067bb3-4085-48b1-ee6a-7e9db077c833",
        "colab": {
          "base_uri": "https://localhost:8080/",
          "height": 34
        }
      },
      "cell_type": "code",
      "source": [
        "data_lm.train_ds.x.items[1] #numericalized"
      ],
      "execution_count": 17,
      "outputs": [
        {
          "output_type": "execute_result",
          "data": {
            "text/plain": [
              "array([   2,    3,    8,    4,   70,  374,   18,    4, 1356,  457,   19, 1772,   18])"
            ]
          },
          "metadata": {
            "tags": []
          },
          "execution_count": 17
        }
      ]
    },
    {
      "metadata": {
        "id": "LmBzZsDtyqmn",
        "colab_type": "code",
        "outputId": "f459af86-6cd8-4c28-d1c5-32df5b9e10d6",
        "colab": {
          "base_uri": "https://localhost:8080/",
          "height": 17051
        }
      },
      "cell_type": "code",
      "source": [
        "data_lm.vocab.stoi"
      ],
      "execution_count": 18,
      "outputs": [
        {
          "output_type": "execute_result",
          "data": {
            "text/plain": [
              "defaultdict(int,\n",
              "            {'xxunk': 0,\n",
              "             'xxpad': 1,\n",
              "             'xxbos': 2,\n",
              "             'xxfld': 3,\n",
              "             'xxmaj': 4,\n",
              "             'xxup': 5,\n",
              "             'xxrep': 6,\n",
              "             'xxwrep': 7,\n",
              "             '1': 8,\n",
              "             '.': 9,\n",
              "             'i': 10,\n",
              "             'to': 11,\n",
              "             'you': 12,\n",
              "             ',': 13,\n",
              "             '?': 14,\n",
              "             'a': 15,\n",
              "             'the': 16,\n",
              "             '!': 17,\n",
              "             '...': 18,\n",
              "             'u': 19,\n",
              "             'and': 20,\n",
              "             'is': 21,\n",
              "             'in': 22,\n",
              "             'me': 23,\n",
              "             'my': 24,\n",
              "             'for': 25,\n",
              "             'it': 26,\n",
              "             '..': 27,\n",
              "             'your': 28,\n",
              "             'do': 29,\n",
              "             'have': 30,\n",
              "             'that': 31,\n",
              "             'of': 32,\n",
              "             'call': 33,\n",
              "             'on': 34,\n",
              "             'are': 35,\n",
              "             \"'s\": 36,\n",
              "             '2': 37,\n",
              "             'now': 38,\n",
              "             'so': 39,\n",
              "             'but': 40,\n",
              "             'not': 41,\n",
              "             '/': 42,\n",
              "             'or': 43,\n",
              "             'we': 44,\n",
              "             ':': 45,\n",
              "             'at': 46,\n",
              "             'can': 47,\n",
              "             '4': 48,\n",
              "             'be': 49,\n",
              "             'ur': 50,\n",
              "             \"'m\": 51,\n",
              "             'will': 52,\n",
              "             'get': 53,\n",
              "             'if': 54,\n",
              "             'with': 55,\n",
              "             'just': 56,\n",
              "             \"n't\": 57,\n",
              "             'no': 58,\n",
              "             'this': 59,\n",
              "             'nt': 60,\n",
              "             '>': 61,\n",
              "             'how': 62,\n",
              "             'up': 63,\n",
              "             '<': 64,\n",
              "             'what': 65,\n",
              "             'when': 66,\n",
              "             '-': 67,\n",
              "             'go': 68,\n",
              "             'free': 69,\n",
              "             'ok': 70,\n",
              "             'from': 71,\n",
              "             '\"': 72,\n",
              "             ')': 73,\n",
              "             '&': 74,\n",
              "             '#': 75,\n",
              "             'out': 76,\n",
              "             'all': 77,\n",
              "             'know': 78,\n",
              "             'got': 79,\n",
              "             'was': 80,\n",
              "             'like': 81,\n",
              "             'then': 82,\n",
              "             'he': 83,\n",
              "             'good': 84,\n",
              "             'there': 85,\n",
              "             'am': 86,\n",
              "             'its': 87,\n",
              "             '*': 88,\n",
              "             'come': 89,\n",
              "             'day': 90,\n",
              "             'time': 91,\n",
              "             'only': 92,\n",
              "             \"'ll\": 93,\n",
              "             'send': 94,\n",
              "             'text': 95,\n",
              "             'want': 96,\n",
              "             'love': 97,\n",
              "             'did': 98,\n",
              "             'as': 99,\n",
              "             'going': 100,\n",
              "             'one': 101,\n",
              "             'txt': 102,\n",
              "             'about': 103,\n",
              "             'lor': 104,\n",
              "             'home': 105,\n",
              "             'need': 106,\n",
              "             'sorry': 107,\n",
              "             'still': 108,\n",
              "             'by': 109,\n",
              "             'see': 110,\n",
              "             'back': 111,\n",
              "             'today': 112,\n",
              "             'she': 113,\n",
              "             'n': 114,\n",
              "             'r': 115,\n",
              "             '\\\\': 116,\n",
              "             'our': 117,\n",
              "             'stop': 118,\n",
              "             'tell': 119,\n",
              "             'reply': 120,\n",
              "             'mobile': 121,\n",
              "             'later': 122,\n",
              "             'da': 123,\n",
              "             'please': 124,\n",
              "             'new': 125,\n",
              "             'any': 126,\n",
              "             'they': 127,\n",
              "             '_': 128,\n",
              "             'her': 129,\n",
              "             'think': 130,\n",
              "             'been': 131,\n",
              "             'hi': 132,\n",
              "             'phone': 133,\n",
              "             'take': 134,\n",
              "             'ca': 135,\n",
              "             'pls': 136,\n",
              "             'who': 137,\n",
              "             'week': 138,\n",
              "             'hey': 139,\n",
              "             'has': 140,\n",
              "             'd': 141,\n",
              "             'here': 142,\n",
              "             'some': 143,\n",
              "             'dear': 144,\n",
              "             'ì': 145,\n",
              "             'him': 146,\n",
              "             'an': 147,\n",
              "             'more': 148,\n",
              "             'oh': 149,\n",
              "             'well': 150,\n",
              "             'great': 151,\n",
              "             '+': 152,\n",
              "             'much': 153,\n",
              "             'night': 154,\n",
              "             'claim': 155,\n",
              "             'had': 156,\n",
              "             'too': 157,\n",
              "             'where': 158,\n",
              "             'should': 159,\n",
              "             'hope': 160,\n",
              "             's': 161,\n",
              "             'wat': 162,\n",
              "             'k': 163,\n",
              "             'give': 164,\n",
              "             'msg': 165,\n",
              "             'happy': 166,\n",
              "             'way': 167,\n",
              "             'make': 168,\n",
              "             'message': 169,\n",
              "             'work': 170,\n",
              "             'e': 171,\n",
              "             \"'\": 172,\n",
              "             'say': 173,\n",
              "             'already': 174,\n",
              "             'prize': 175,\n",
              "             'yes': 176,\n",
              "             'cash': 177,\n",
              "             '5': 178,\n",
              "             'tomorrow': 179,\n",
              "             'said': 180,\n",
              "             'number': 181,\n",
              "             'right': 182,\n",
              "             'm': 183,\n",
              "             'after': 184,\n",
              "             'c': 185,\n",
              "             'meet': 186,\n",
              "             \"'re\": 187,\n",
              "             'yeah': 188,\n",
              "             'ask': 189,\n",
              "             'really': 190,\n",
              "             'them': 191,\n",
              "             'let': 192,\n",
              "             'doing': 193,\n",
              "             'find': 194,\n",
              "             'life': 195,\n",
              "             'last': 196,\n",
              "             'would': 197,\n",
              "             \"'ve\": 198,\n",
              "             'very': 199,\n",
              "             '3': 200,\n",
              "             '(': 201,\n",
              "             'why': 202,\n",
              "             'babe': 203,\n",
              "             'cos': 204,\n",
              "             'won': 205,\n",
              "             'morning': 206,\n",
              "             'anything': 207,\n",
              "             'every': 208,\n",
              "             'win': 209,\n",
              "             'lol': 210,\n",
              "             'sent': 211,\n",
              "             'also': 212,\n",
              "             'nokia': 213,\n",
              "             'sure': 214,\n",
              "             'pick': 215,\n",
              "             'min': 216,\n",
              "             'na': 217,\n",
              "             'thanks': 218,\n",
              "             'something': 219,\n",
              "             '150p': 220,\n",
              "             'feel': 221,\n",
              "             'over': 222,\n",
              "             'were': 223,\n",
              "             'buy': 224,\n",
              "             'keep': 225,\n",
              "             'care': 226,\n",
              "             'around': 227,\n",
              "             'b': 228,\n",
              "             'miss': 229,\n",
              "             'could': 230,\n",
              "             'thing': 231,\n",
              "             'place': 232,\n",
              "             'even': 233,\n",
              "             'again': 234,\n",
              "             'service': 235,\n",
              "             'contact': 236,\n",
              "             'off': 237,\n",
              "             'before': 238,\n",
              "             'urgent': 239,\n",
              "             'someone': 240,\n",
              "             'went': 241,\n",
              "             'many': 242,\n",
              "             'x': 243,\n",
              "             'us': 244,\n",
              "             'money': 245,\n",
              "             'next': 246,\n",
              "             'tone': 247,\n",
              "             'friends': 248,\n",
              "             'first': 249,\n",
              "             'late': 250,\n",
              "             'chat': 251,\n",
              "             'other': 252,\n",
              "             'gon': 253,\n",
              "             'his': 254,\n",
              "             'which': 255,\n",
              "             'leave': 256,\n",
              "             'tonight': 257,\n",
              "             'help': 258,\n",
              "             'wait': 259,\n",
              "             'things': 260,\n",
              "             'ya': 261,\n",
              "             'waiting': 262,\n",
              "             'gud': 263,\n",
              "             ':)': 264,\n",
              "             'soon': 265,\n",
              "             'wo': 266,\n",
              "             'nice': 267,\n",
              "             'customer': 268,\n",
              "             'told': 269,\n",
              "             'wan': 270,\n",
              "             '16': 271,\n",
              "             'getting': 272,\n",
              "             'always': 273,\n",
              "             'sleep': 274,\n",
              "             'per': 275,\n",
              "             'does': 276,\n",
              "             'done': 277,\n",
              "             'hello': 278,\n",
              "             'special': 279,\n",
              "             'ìï': 280,\n",
              "             'friend': 281,\n",
              "             'coming': 282,\n",
              "             'heart': 283,\n",
              "             'guaranteed': 284,\n",
              "             'yet': 285,\n",
              "             'people': 286,\n",
              "             'dun': 287,\n",
              "             'fine': 288,\n",
              "             'try': 289,\n",
              "             'haha': 290,\n",
              "             'thk': 291,\n",
              "             'may': 292,\n",
              "             'down': 293,\n",
              "             'class': 294,\n",
              "             'thought': 295,\n",
              "             '7': 296,\n",
              "             'v': 297,\n",
              "             'holiday': 298,\n",
              "             'mins': 299,\n",
              "             'sms': 300,\n",
              "             'smile': 301,\n",
              "             'use': 302,\n",
              "             'wish': 303,\n",
              "             'stuff': 304,\n",
              "             'man': 305,\n",
              "             'never': 306,\n",
              "             'year': 307,\n",
              "             'better': 308,\n",
              "             'name': 309,\n",
              "             'live': 310,\n",
              "             '18': 311,\n",
              "             'lunch': 312,\n",
              "             'talk': 313,\n",
              "             'yup': 314,\n",
              "             'trying': 315,\n",
              "             'best': 316,\n",
              "             'draw': 317,\n",
              "             'few': 318,\n",
              "             'same': 319,\n",
              "             'camera': 320,\n",
              "             'bit': 321,\n",
              "             'play': 322,\n",
              "             'meeting': 323,\n",
              "             'person': 324,\n",
              "             '6': 325,\n",
              "             'line': 326,\n",
              "             'receive': 327,\n",
              "             'eat': 328,\n",
              "             'being': 329,\n",
              "             'cool': 330,\n",
              "             'job': 331,\n",
              "             'dat': 332,\n",
              "             'ready': 333,\n",
              "             'mind': 334,\n",
              "             '9': 335,\n",
              "             'latest': 336,\n",
              "             'car': 337,\n",
              "             'month': 338,\n",
              "             'check': 339,\n",
              "             'u.': 340,\n",
              "             'house': 341,\n",
              "             'than': 342,\n",
              "             'having': 343,\n",
              "             'enjoy': 344,\n",
              "             'chance': 345,\n",
              "             'half': 346,\n",
              "             'wanna': 347,\n",
              "             'another': 348,\n",
              "             'finish': 349,\n",
              "             'long': 350,\n",
              "             'sir': 351,\n",
              "             'liao': 352,\n",
              "             'god': 353,\n",
              "             'days': 354,\n",
              "             'end': 355,\n",
              "             'å£1000': 356,\n",
              "             'real': 357,\n",
              "             'y': 358,\n",
              "             'nothing': 359,\n",
              "             'account': 360,\n",
              "             'because': 361,\n",
              "             'big': 362,\n",
              "             'ever': 363,\n",
              "             '1st': 364,\n",
              "             'watching': 365,\n",
              "             'wk': 366,\n",
              "             'guess': 367,\n",
              "             'lot': 368,\n",
              "             '150ppm': 369,\n",
              "             'start': 370,\n",
              "             'into': 371,\n",
              "             'box': 372,\n",
              "             'problem': 373,\n",
              "             'lar': 374,\n",
              "             'word': 375,\n",
              "             'sweet': 376,\n",
              "             'awarded': 377,\n",
              "             'birthday': 378,\n",
              "             'ill': 379,\n",
              "             'quite': 380,\n",
              "             'early': 381,\n",
              "             'remember': 382,\n",
              "             'dinner': 383,\n",
              "             'look': 384,\n",
              "             'landline': 385,\n",
              "             'girl': 386,\n",
              "             'guys': 387,\n",
              "             'reach': 388,\n",
              "             'watch': 389,\n",
              "             'video': 390,\n",
              "             'shit': 391,\n",
              "             'actually': 392,\n",
              "             'speak': 393,\n",
              "             'yo': 394,\n",
              "             'shows': 395,\n",
              "             'luv': 396,\n",
              "             'might': 397,\n",
              "             'g': 398,\n",
              "             'den': 399,\n",
              "             'bad': 400,\n",
              "             'probably': 401,\n",
              "             'world': 402,\n",
              "             'apply': 403,\n",
              "             'cost': 404,\n",
              "             'weekend': 405,\n",
              "             'part': 406,\n",
              "             'hear': 407,\n",
              "             'once': 408,\n",
              "             'between': 409,\n",
              "             'forgot': 410,\n",
              "             'award': 411,\n",
              "             'bt': 412,\n",
              "             'leh': 413,\n",
              "             'called': 414,\n",
              "             'face': 415,\n",
              "             'thanx': 416,\n",
              "             'plan': 417,\n",
              "             'baby': 418,\n",
              "             't': 419,\n",
              "             'two': 420,\n",
              "             'left': 421,\n",
              "             'maybe': 422,\n",
              "             \"''\": 423,\n",
              "             'offer': 424,\n",
              "             'easy': 425,\n",
              "             'everything': 426,\n",
              "             'boy': 427,\n",
              "             'orange': 428,\n",
              "             '10': 429,\n",
              "             'kiss': 430,\n",
              "             'princess': 431,\n",
              "             'fun': 432,\n",
              "             'xxx': 433,\n",
              "             'pay': 434,\n",
              "             'bus': 435,\n",
              "             'room': 436,\n",
              "             '2nd': 437,\n",
              "             '8': 438,\n",
              "             'calls': 439,\n",
              "             'pa': 440,\n",
              "             'ah': 441,\n",
              "             'selected': 442,\n",
              "             'without': 443,\n",
              "             'working': 444,\n",
              "             'aight': 445,\n",
              "             'collect': 446,\n",
              "             'shopping': 447,\n",
              "             'po': 448,\n",
              "             'hour': 449,\n",
              "             'shall': 450,\n",
              "             'made': 451,\n",
              "             'texts': 452,\n",
              "             'minutes': 453,\n",
              "             'sat': 454,\n",
              "             'rate': 455,\n",
              "             'dad': 456,\n",
              "             'wif': 457,\n",
              "             'though': 458,\n",
              "             'enough': 459,\n",
              "             'wanted': 460,\n",
              "             're': 461,\n",
              "             'dis': 462,\n",
              "             'network': 463,\n",
              "             'means': 464,\n",
              "             'anyway': 465,\n",
              "             'must': 466,\n",
              "             'those': 467,\n",
              "             'pm': 468,\n",
              "             'dunno': 469,\n",
              "             'missing': 470,\n",
              "             'fuck': 471,\n",
              "             'until': 472,\n",
              "             'entry': 473,\n",
              "             'ringtone': 474,\n",
              "             'bed': 475,\n",
              "             'abt': 476,\n",
              "             'says': 477,\n",
              "             'code': 478,\n",
              "             'mail': 479,\n",
              "             'little': 480,\n",
              "             'tv': 481,\n",
              "             'i.ll': 482,\n",
              "             'jus': 483,\n",
              "             'tmr': 484,\n",
              "             'asked': 485,\n",
              "             'most': 486,\n",
              "             'missed': 487,\n",
              "             'since': 488,\n",
              "             'pain': 489,\n",
              "             'came': 490,\n",
              "             'afternoon': 491,\n",
              "             'looking': 492,\n",
              "             'school': 493,\n",
              "             'mob': 494,\n",
              "             'join': 495,\n",
              "             'sexy': 496,\n",
              "             'years': 497,\n",
              "             'evening': 498,\n",
              "             'tones': 499,\n",
              "             'collection': 500,\n",
              "             'update': 501,\n",
              "             'show': 502,\n",
              "             'okay': 503,\n",
              "             'xmas': 504,\n",
              "             'able': 505,\n",
              "             'hav': 506,\n",
              "             'important': 507,\n",
              "             'plz': 508,\n",
              "             'wake': 509,\n",
              "             'put': 510,\n",
              "             'details': 511,\n",
              "             'while': 512,\n",
              "             'office': 513,\n",
              "             'town': 514,\n",
              "             'plus': 515,\n",
              "             'goes': 516,\n",
              "             'thank': 517,\n",
              "             'times': 518,\n",
              "             'till': 519,\n",
              "             'saw': 520,\n",
              "             'yesterday': 521,\n",
              "             'yourself': 522,\n",
              "             'double': 523,\n",
              "             'hair': 524,\n",
              "             'else': 525,\n",
              "             'price': 526,\n",
              "             'juz': 527,\n",
              "             'dude': 528,\n",
              "             'makes': 529,\n",
              "             'goin': 530,\n",
              "             \"'d\": 531,\n",
              "             't&c': 532,\n",
              "             'alright': 533,\n",
              "             '=': 534,\n",
              "             'tried': 535,\n",
              "             'delivery': 536,\n",
              "             'messages': 537,\n",
              "             'run': 538,\n",
              "             'driving': 539,\n",
              "             'worry': 540,\n",
              "             'food': 541,\n",
              "             'o': 542,\n",
              "             'decimal': 543,\n",
              "             '500': 544,\n",
              "             'music': 545,\n",
              "             'wot': 546,\n",
              "             'true': 547,\n",
              "             'lose': 548,\n",
              "             'wife': 549,\n",
              "             'wants': 550,\n",
              "             'de': 551,\n",
              "             'å£1.50': 552,\n",
              "             'national': 553,\n",
              "             'uk': 554,\n",
              "             'wen': 555,\n",
              "             'å£5000': 556,\n",
              "             'making': 557,\n",
              "             'sleeping': 558,\n",
              "             '10p': 559,\n",
              "             'guy': 560,\n",
              "             'book': 561,\n",
              "             'friendship': 562,\n",
              "             'games': 563,\n",
              "             'weekly': 564,\n",
              "             'hurt': 565,\n",
              "             'bring': 566,\n",
              "             'beautiful': 567,\n",
              "             'sae': 568,\n",
              "             'either': 569,\n",
              "             'attempt': 570,\n",
              "             'these': 571,\n",
              "             'sch': 572,\n",
              "             'together': 573,\n",
              "             'saying': 574,\n",
              "             ':-)': 575,\n",
              "             'gift': 576,\n",
              "             '8007': 577,\n",
              "             'away': 578,\n",
              "             'online': 579,\n",
              "             'colour': 580,\n",
              "             'words': 581,\n",
              "             '$': 582,\n",
              "             'took': 583,\n",
              "             'trip': 584,\n",
              "             'comes': 585,\n",
              "             'im': 586,\n",
              "             'movie': 587,\n",
              "             'test': 588,\n",
              "             'old': 589,\n",
              "             'valid': 590,\n",
              "             'å£2000': 591,\n",
              "             'todays': 592,\n",
              "             'top': 593,\n",
              "             'coz': 594,\n",
              "             'til': 595,\n",
              "             'oso': 596,\n",
              "             'happen': 597,\n",
              "             'nite': 598,\n",
              "             'vouchers': 599,\n",
              "             'hot': 600,\n",
              "             'charge': 601,\n",
              "             '86688': 602,\n",
              "             'http': 603,\n",
              "             'full': 604,\n",
              "             'huh': 605,\n",
              "             'change': 606,\n",
              "             'poly': 607,\n",
              "             'stay': 608,\n",
              "             'eve': 609,\n",
              "             't&cs': 610,\n",
              "             'game': 611,\n",
              "             'rite': 612,\n",
              "             'å£100': 613,\n",
              "             'await': 614,\n",
              "             'f': 615,\n",
              "             'finished': 616,\n",
              "             'close': 617,\n",
              "             'smiling': 618,\n",
              "             'cause': 619,\n",
              "             'mean': 620,\n",
              "             'bonus': 621,\n",
              "             'order': 622,\n",
              "             'ard': 623,\n",
              "             'believe': 624,\n",
              "             'shop': 625,\n",
              "             '750': 626,\n",
              "             'ring': 627,\n",
              "             'club': 628,\n",
              "             'answer': 629,\n",
              "             'calling': 630,\n",
              "             'post': 631,\n",
              "             'row': 632,\n",
              "             'å£500': 633,\n",
              "             'simple': 634,\n",
              "             'bored': 635,\n",
              "             'aft': 636,\n",
              "             'feeling': 637,\n",
              "             'sad': 638,\n",
              "             'wid': 639,\n",
              "             'available': 640,\n",
              "             'brother': 641,\n",
              "             'date': 642,\n",
              "             'news': 643,\n",
              "             'lesson': 644,\n",
              "             'forget': 645,\n",
              "             'second': 646,\n",
              "             'busy': 647,\n",
              "             'points': 648,\n",
              "             'leaving': 649,\n",
              "             'address': 650,\n",
              "             'worth': 651,\n",
              "             'gr8': 652,\n",
              "             'noe': 653,\n",
              "             'haf': 654,\n",
              "             'sister': 655,\n",
              "             'opt': 656,\n",
              "             'thinking': 657,\n",
              "             'mine': 658,\n",
              "             'neva': 659,\n",
              "             'family': 660,\n",
              "             'hours': 661,\n",
              "             'drive': 662,\n",
              "             'walk': 663,\n",
              "             'dreams': 664,\n",
              "             'auction': 665,\n",
              "             'lei': 666,\n",
              "             'final': 667,\n",
              "             'set': 668,\n",
              "             '11': 669,\n",
              "             'pounds': 670,\n",
              "             'tomo': 671,\n",
              "             'yours': 672,\n",
              "             'lucky': 673,\n",
              "             'started': 674,\n",
              "             'ta': 675,\n",
              "             'taking': 676,\n",
              "             'everyone': 677,\n",
              "             'each': 678,\n",
              "             'awesome': 679,\n",
              "             'minute': 680,\n",
              "             'touch': 681,\n",
              "             'story': 682,\n",
              "             'wil': 683,\n",
              "             'takes': 684,\n",
              "             'far': 685,\n",
              "             'okie': 686,\n",
              "             'chikku': 687,\n",
              "             'mobileupd8': 688,\n",
              "             'question': 689,\n",
              "             'tot': 690,\n",
              "             'whatever': 691,\n",
              "             'mum': 692,\n",
              "             'pub': 693,\n",
              "             'email': 694,\n",
              "             'knw': 695,\n",
              "             'drop': 696,\n",
              "             'loving': 697,\n",
              "             'crazy': 698,\n",
              "             'treat': 699,\n",
              "             '100': 700,\n",
              "             'pobox': 701,\n",
              "             'ha': 702,\n",
              "             '08000930705': 703,\n",
              "             'congrats': 704,\n",
              "             '12hrs': 705,\n",
              "             'happened': 706,\n",
              "             'private': 707,\n",
              "             'open': 708,\n",
              "             'hard': 709,\n",
              "             'lots': 710,\n",
              "             'www': 711,\n",
              "             'carlos': 712,\n",
              "             'boytoy': 713,\n",
              "             'sis': 714,\n",
              "             'both': 715,\n",
              "             'sounds': 716,\n",
              "             'tel': 717,\n",
              "             'w': 718,\n",
              "             'read': 719,\n",
              "             'light': 720,\n",
              "             'suite342': 721,\n",
              "             '2lands': 722,\n",
              "             '08000839402': 723,\n",
              "             'drink': 724,\n",
              "             'head': 725,\n",
              "             'visit': 726,\n",
              "             'pics': 727,\n",
              "             'fast': 728,\n",
              "             'voucher': 729,\n",
              "             'weeks': 730,\n",
              "             'sun': 731,\n",
              "             'anyone': 732,\n",
              "             'pic': 733,\n",
              "             'sunday': 734,\n",
              "             'mom': 735,\n",
              "             'saturday': 736,\n",
              "             'camcorder': 737,\n",
              "             'telling': 738,\n",
              "             'girls': 739,\n",
              "             'frnds': 740,\n",
              "             'used': 741,\n",
              "             'gone': 742,\n",
              "             'search': 743,\n",
              "             'winner': 744,\n",
              "             'operator': 745,\n",
              "             'statement': 746,\n",
              "             'expires': 747,\n",
              "             'msgs': 748,\n",
              "             'services': 749,\n",
              "             'hand': 750,\n",
              "             'content': 751,\n",
              "             'smoke': 752,\n",
              "             'finally': 753,\n",
              "             'darlin': 754,\n",
              "             'college': 755,\n",
              "             'goodmorning': 756,\n",
              "             'oredi': 757,\n",
              "             'company': 758,\n",
              "             'choose': 759,\n",
              "             'found': 760,\n",
              "             'jay': 761,\n",
              "             'dating': 762,\n",
              "             'land': 763,\n",
              "             'fucking': 764,\n",
              "             'ten': 765,\n",
              "             'gd': 766,\n",
              "             'nope': 767,\n",
              "             'pretty': 768,\n",
              "             'snow': 769,\n",
              "             'mates': 770,\n",
              "             'hit': 771,\n",
              "             'parents': 772,\n",
              "             'alone': 773,\n",
              "             'seeing': 774,\n",
              "             'hee': 775,\n",
              "             '0800': 776,\n",
              "             'felt': 777,\n",
              "             'identifier': 778,\n",
              "             'mu': 779,\n",
              "             'player': 780,\n",
              "             'yr': 781,\n",
              "             'type': 782,\n",
              "             'ltd': 783,\n",
              "             'frnd': 784,\n",
              "             'bank': 785,\n",
              "             'log': 786,\n",
              "             'course': 787,\n",
              "             'mrng': 788,\n",
              "             'rs': 789,\n",
              "             'break': 790,\n",
              "             'congratulations': 791,\n",
              "             'hold': 792,\n",
              "             'anytime': 793,\n",
              "             'unlimited': 794,\n",
              "             'unsubscribe': 795,\n",
              "             'blue': 796,\n",
              "             'lets': 797,\n",
              "             'card': 798,\n",
              "             'txts': 799,\n",
              "             'angry': 800,\n",
              "             'project': 801,\n",
              "             'reason': 802,\n",
              "             'phones': 803,\n",
              "             'bout': 804,\n",
              "             'welcome': 805,\n",
              "             'kind': 806,\n",
              "             'savamob': 807,\n",
              "             'offers': 808,\n",
              "             'within': 809,\n",
              "             'sea': 810,\n",
              "             'å£350': 811,\n",
              "             '\\x89û': 812,\n",
              "             'b4': 813,\n",
              "             'secret': 814,\n",
              "             'understand': 815,\n",
              "             'wrong': 816,\n",
              "             'don': 817,\n",
              "             'least': 818,\n",
              "             'earlier': 819,\n",
              "             'party': 820,\n",
              "             ':-(': 821,\n",
              "             ';': 822,\n",
              "             '||': 823,\n",
              "             'point': 824,\n",
              "             'freemsg': 825,\n",
              "             'mobiles': 826,\n",
              "             'info': 827,\n",
              "             'eh': 828,\n",
              "             'hungry': 829,\n",
              "             'tho': 830,\n",
              "             'decided': 831,\n",
              "             'almost': 832,\n",
              "             'whole': 833,\n",
              "             'correct': 834,\n",
              "             'cut': 835,\n",
              "             'complimentary': 836,\n",
              "             'invited': 837,\n",
              "             'friday': 838,\n",
              "             'hmm': 839,\n",
              "             'uncle': 840,\n",
              "             'numbers': 841,\n",
              "             'quiz': 842,\n",
              "             'their': 843,\n",
              "             'balance': 844,\n",
              "             'march': 845,\n",
              "             'meant': 846,\n",
              "             'fone': 847,\n",
              "             'christmas': 848,\n",
              "             'currently': 849,\n",
              "             'st': 850,\n",
              "             'call2optout': 851,\n",
              "             'rental': 852,\n",
              "             'å£250': 853,\n",
              "             'supposed': 854,\n",
              "             'cum': 855,\n",
              "             'side': 856,\n",
              "             'ipod': 857,\n",
              "             'fri': 858,\n",
              "             'listen': 859,\n",
              "             'case': 860,\n",
              "             'yar': 861,\n",
              "             'outside': 862,\n",
              "             'area': 863,\n",
              "             'mayb': 864,\n",
              "             'picking': 865,\n",
              "             'lovely': 866,\n",
              "             'bslvyl': 867,\n",
              "             'support': 868,\n",
              "             'luck': 869,\n",
              "             'enter': 870,\n",
              "             'smth': 871,\n",
              "             'wkly': 872,\n",
              "             'comin': 873,\n",
              "             'confirm': 874,\n",
              "             'crave': 875,\n",
              "             'wow': 876,\n",
              "             'checking': 877,\n",
              "             'song': 878,\n",
              "             'download': 879,\n",
              "             'shower': 880,\n",
              "             'prob': 881,\n",
              "             'entered': 882,\n",
              "             'caller': 883,\n",
              "             'match': 884,\n",
              "             'dogging': 885,\n",
              "             'direct': 886,\n",
              "             'age': 887,\n",
              "             'muz': 888,\n",
              "             'orchard': 889,\n",
              "             'kate': 890,\n",
              "             'bcoz': 891,\n",
              "             'fr': 892,\n",
              "             '87066': 893,\n",
              "             'ends': 894,\n",
              "             'lost': 895,\n",
              "             'plans': 896,\n",
              "             'via': 897,\n",
              "             'fancy': 898,\n",
              "             'hg': 899,\n",
              "             'w1j6hl': 900,\n",
              "             'motorola': 901,\n",
              "             'seen': 902,\n",
              "             'slow': 903,\n",
              "             'ass': 904,\n",
              "             'india': 905,\n",
              "             'th': 906,\n",
              "             'asking': 907,\n",
              "             'park': 908,\n",
              "             'frm': 909,\n",
              "             'through': 910,\n",
              "             'gym': 911,\n",
              "             '0': 912,\n",
              "             'happiness': 913,\n",
              "             'needs': 914,\n",
              "             'ans': 915,\n",
              "             'talking': 916,\n",
              "             'wonder': 917,\n",
              "             'ugh': 918,\n",
              "             'extra': 919,\n",
              "             'thinks': 920,\n",
              "             'mate': 921,\n",
              "             'sort': 922,\n",
              "             'couple': 923,\n",
              "             'truth': 924,\n",
              "             'heard': 925,\n",
              "             'computer': 926,\n",
              "             'information': 927,\n",
              "             'chennai': 928,\n",
              "             'dnt': 929,\n",
              "             'gas': 930,\n",
              "             'father': 931,\n",
              "             'slowly': 932,\n",
              "             'valued': 933,\n",
              "             'sex': 934,\n",
              "             'comp': 935,\n",
              "             'usf': 936,\n",
              "             'months': 937,\n",
              "             'wonderful': 938,\n",
              "             'england': 939,\n",
              "             'eg': 940,\n",
              "             'myself': 941,\n",
              "             'abiola': 942,\n",
              "             'gets': 943,\n",
              "             'red': 944,\n",
              "             'etc': 945,\n",
              "             'move': 946,\n",
              "             'rply': 947,\n",
              "             'representative': 948,\n",
              "             'mah': 949,\n",
              "             'askd': 950,\n",
              "             '03': 951,\n",
              "             'rates': 952,\n",
              "             '12': 953,\n",
              "             'del': 954,\n",
              "             'txting': 955,\n",
              "             'tired': 956,\n",
              "             'ni8': 957,\n",
              "             'wine': 958,\n",
              "             'own': 959,\n",
              "             'leaves': 960,\n",
              "             'hmv': 961,\n",
              "             'questions': 962,\n",
              "             'somebody': 963,\n",
              "             'somewhere': 964,\n",
              "             'reading': 965,\n",
              "             'immediately': 966,\n",
              "             'tc': 967,\n",
              "             'small': 968,\n",
              "             'figure': 969,\n",
              "             'met': 970,\n",
              "             'ex': 971,\n",
              "             'rock': 972,\n",
              "             'voice': 973,\n",
              "             'ldn': 974,\n",
              "             'different': 975,\n",
              "             'die': 976,\n",
              "             'remove': 977,\n",
              "             'credit': 978,\n",
              "             'monday': 979,\n",
              "             'discount': 980,\n",
              "             'cs': 981,\n",
              "             'clean': 982,\n",
              "             'em': 983,\n",
              "             '2003': 984,\n",
              "             'un': 985,\n",
              "             'darren': 986,\n",
              "             'sound': 987,\n",
              "             'paper': 988,\n",
              "             'laptop': 989,\n",
              "             'sell': 990,\n",
              "             'poor': 991,\n",
              "             'whenever': 992,\n",
              "             'asap': 993,\n",
              "             'ntt': 994,\n",
              "             'feels': 995,\n",
              "             'surprise': 996,\n",
              "             'grins': 997,\n",
              "             'she.s': 998,\n",
              "             'difficult': 999,\n",
              "             ...})"
            ]
          },
          "metadata": {
            "tags": []
          },
          "execution_count": 18
        }
      ]
    },
    {
      "metadata": {
        "id": "zSs-iwjfjoAN",
        "colab_type": "code",
        "colab": {}
      },
      "cell_type": "code",
      "source": [
        "learn = language_model_learner(data_lm, AWD_LSTM, drop_mult=0.3)"
      ],
      "execution_count": 0,
      "outputs": []
    },
    {
      "metadata": {
        "id": "911AqgFYjoAS",
        "colab_type": "code",
        "outputId": "bb111fec-271c-42aa-e46e-e43b0edd52db",
        "colab": {
          "base_uri": "https://localhost:8080/",
          "height": 34
        }
      },
      "cell_type": "code",
      "source": [
        "learn.lr_find()"
      ],
      "execution_count": 20,
      "outputs": [
        {
          "output_type": "display_data",
          "data": {
            "text/html": [
              ""
            ],
            "text/plain": [
              "<IPython.core.display.HTML object>"
            ]
          },
          "metadata": {
            "tags": []
          }
        },
        {
          "output_type": "stream",
          "text": [
            "LR Finder is complete, type {learner_name}.recorder.plot() to see the graph.\n"
          ],
          "name": "stdout"
        }
      ]
    },
    {
      "metadata": {
        "id": "QCmXHiCYjoAb",
        "colab_type": "code",
        "outputId": "50b23814-895b-47e5-870c-3bdc5e992ec8",
        "colab": {
          "base_uri": "https://localhost:8080/",
          "height": 361
        }
      },
      "cell_type": "code",
      "source": [
        "learn.recorder.plot()"
      ],
      "execution_count": 21,
      "outputs": [
        {
          "output_type": "display_data",
          "data": {
            "image/png": "[encoded data removed]",
            "text/plain": [
              "<Figure size 576x396 with 1 Axes>"
            ]
          },
          "metadata": {
            "tags": []
          }
        }
      ]
    },
    {
      "metadata": {
        "id": "L1TS9rOKjoAe",
        "colab_type": "code",
        "outputId": "8fc954dc-7e06-4d94-cf85-d5b01e430e93",
        "colab": {
          "base_uri": "https://localhost:8080/",
          "height": 103
        }
      },
      "cell_type": "code",
      "source": [
        "learn.fit_one_cycle(1, 1e-1, moms=(0.8,0.7))"
      ],
      "execution_count": 22,
      "outputs": [
        {
          "output_type": "display_data",
          "data": {
            "text/html": [
              "Total time: 00:14 <p><table border=\"1\" class=\"dataframe\">\n",
              "  <thead>\n",
              "    <tr style=\"text-align: left;\">\n",
              "      <th>epoch</th>\n",
              "      <th>train_loss</th>\n",
              "      <th>valid_loss</th>\n",
              "      <th>accuracy</th>\n",
              "      <th>time</th>\n",
              "    </tr>\n",
              "  </thead>\n",
              "  <tbody>\n",
              "    <tr>\n",
              "      <td>1</td>\n",
              "      <td>5.193193</td>\n",
              "      <td>4.249756</td>\n",
              "      <td>0.295727</td>\n",
              "      <td>00:14</td>\n",
              "    </tr>\n",
              "  </tbody>\n",
              "</table>"
            ],
            "text/plain": [
              "<IPython.core.display.HTML object>"
            ]
          },
          "metadata": {
            "tags": []
          }
        }
      ]
    },
    {
      "metadata": {
        "id": "ur5ADEizjoAi",
        "colab_type": "code",
        "colab": {}
      },
      "cell_type": "code",
      "source": [
        "learn.save('fit_head')"
      ],
      "execution_count": 0,
      "outputs": []
    },
    {
      "metadata": {
        "id": "jEVQdj7ajoAk",
        "colab_type": "code",
        "colab": {}
      },
      "cell_type": "code",
      "source": [
        "learn.load('fit_head');"
      ],
      "execution_count": 0,
      "outputs": []
    },
    {
      "metadata": {
        "id": "nDRI6G-gjoA6",
        "colab_type": "text"
      },
      "cell_type": "markdown",
      "source": [
        "How good is our model? Well let's try to see what it predicts after a few given words."
      ]
    },
    {
      "metadata": {
        "id": "RGt6N9okjoA-",
        "colab_type": "code",
        "colab": {}
      },
      "cell_type": "code",
      "source": [
        "TEXT = \"I will be \"\n",
        "N_WORDS = 20\n",
        "N_SENTENCES = 2"
      ],
      "execution_count": 0,
      "outputs": []
    },
    {
      "metadata": {
        "id": "xBNkR_JvjoBA",
        "colab_type": "code",
        "outputId": "14fdad28-ea7b-4927-9b44-574f1d9bd541",
        "colab": {
          "base_uri": "https://localhost:8080/",
          "height": 51
        }
      },
      "cell_type": "code",
      "source": [
        "#our own sms generator\n",
        "print(\"\\n\".join(learn.predict(TEXT, N_WORDS, temperature=0.75) for _ in range(N_SENTENCES)))"
      ],
      "execution_count": 26,
      "outputs": [
        {
          "output_type": "stream",
          "text": [
            "I will be  in a few minutes side : If u do nt saw the luck after need to come tomorrow ,\n",
            "I will be  when you fucking want to make you get to find out out of the part of my wife . i\n"
          ],
          "name": "stdout"
        }
      ]
    },
    {
      "metadata": {
        "id": "e5SaXdhmjoBD",
        "colab_type": "text"
      },
      "cell_type": "markdown",
      "source": [
        "We not only have to save the model, but also it's encoder, the part that's responsible for creating and updating the hidden state. For the next part, we don't care about the part that tries to guess the next word."
      ]
    },
    {
      "metadata": {
        "id": "wJU4ga4YjoBD",
        "colab_type": "code",
        "colab": {}
      },
      "cell_type": "code",
      "source": [
        "learn.save_encoder('fine_tuned_enc') "
      ],
      "execution_count": 0,
      "outputs": []
    },
    {
      "metadata": {
        "id": "7D20c2fRjoBF",
        "colab_type": "text"
      },
      "cell_type": "markdown",
      "source": [
        "## Classifier"
      ]
    },
    {
      "metadata": {
        "id": "O4sYWbeTjoBH",
        "colab_type": "text"
      },
      "cell_type": "markdown",
      "source": [
        "Now, we'll create a new data object that only grabs the labelled data and keeps those labels. Again, this line takes a bit of time."
      ]
    },
    {
      "metadata": {
        "id": "CYdGaYEOjoBI",
        "colab_type": "code",
        "colab": {}
      },
      "cell_type": "code",
      "source": [
        "#we can use the same dataframe train_df\n",
        "\n",
        "data_clas = (TextList.from_df(train_df, cols='text', vocab=data_lm.vocab)\n",
        "             .random_split_by_pct(0.2)\n",
        "             #split by 20% validation and 80% training\n",
        "             .label_from_df(cols=0)\n",
        "             #label is in the first column\n",
        "             .databunch(bs=bs))\n",
        "\n",
        "data_clas.save('tmp_clas')"
      ],
      "execution_count": 0,
      "outputs": []
    },
    {
      "metadata": {
        "id": "NJ6AVyrcjoBO",
        "colab_type": "code",
        "outputId": "620aac1e-3a59-4208-c03c-40d43215b89f",
        "colab": {
          "base_uri": "https://localhost:8080/",
          "height": 941
        }
      },
      "cell_type": "code",
      "source": [
        "data_clas.show_batch(20)"
      ],
      "execution_count": 29,
      "outputs": [
        {
          "output_type": "display_data",
          "data": {
            "text/html": [
              "<table border=\"1\" class=\"dataframe\">\n",
              "  <thead>\n",
              "    <tr style=\"text-align: right;\">\n",
              "      <th>text</th>\n",
              "      <th>target</th>\n",
              "    </tr>\n",
              "  </thead>\n",
              "  <tbody>\n",
              "    <tr>\n",
              "      <td>xxbos xxmaj the last thing i ever wanted to do was hurt you . xxmaj and i did n't think it would have . xxmaj you 'd laugh , be embarassed , delete the tag and keep going . xxmaj but as far as i knew , it was n't even up . xxmaj the fact that you even felt like i would do it to hurt you shows you</td>\n",
              "      <td>ham</td>\n",
              "    </tr>\n",
              "    <tr>\n",
              "      <td>xxbos xxmaj indians r poor but xxmaj india is not a poor country . xxmaj says one of the swiss bank directors . xxmaj he says that \\ &lt; # &gt; lac crore \" of xxmaj indian money is deposited in swiss banks which can be used for ' taxless ' budget for &lt; # &gt; yrs . xxmaj can give &lt; # &gt; crore jobs to all xxmaj indians</td>\n",
              "      <td>ham</td>\n",
              "    </tr>\n",
              "    <tr>\n",
              "      <td>xxbos no , i * did n't * mean to post it . i wrote it , and like so many other times i 've ritten stuff to you , i let it sit there . it xxup was what i was feeling at the time . i was angry . xxmaj before i left , i hit send , then stop . xxmaj it was n't there . i</td>\n",
              "      <td>ham</td>\n",
              "    </tr>\n",
              "    <tr>\n",
              "      <td>xxbos xxmaj solve d xxmaj case : a xxmaj man xxmaj was xxmaj found xxmaj murdered xxmaj on &lt; xxup decimal &gt; . &lt; # &gt; afternoon . 1,his wife called xxmaj police . 2,police questioned everyone . 3,wife : xxmaj sir , i was sleeping , when the murder took place . 4.cook : i was cooking . 5.gardener : i was picking vegetables . 6.house - xxmaj maid</td>\n",
              "      <td>ham</td>\n",
              "    </tr>\n",
              "    <tr>\n",
              "      <td>xxbos xxmaj japanese xxmaj proverb : xxmaj if one xxmaj can do it , u too xxmaj can do it , xxmaj if none xxmaj can do it , u must do it xxmaj indian version : xxmaj if one xxmaj can do it , xxup let xxup him xxup do it .. xxmaj if none xxmaj can do it , xxup leave it ! ! xxmaj and finally xxmaj</td>\n",
              "      <td>ham</td>\n",
              "    </tr>\n",
              "    <tr>\n",
              "      <td>xxbos xxmaj hey babe , sorry i did n't get sooner . xxmaj gary can come and fix it cause he thinks he knows what it is but he does n't go as far a xxmaj ptbo and he says it will cost &lt; # &gt; bucks . i do n't know if it might be cheaper to find someone there ? xxmaj we do n't have any second hand</td>\n",
              "      <td>ham</td>\n",
              "    </tr>\n",
              "    <tr>\n",
              "      <td>xxbos xxmaj can you tell xxmaj shola to please go to college of medicine and visit the academic department , tell the academic secretary what the current situation is and ask if she can transfer there . xxmaj she should ask someone to check xxmaj sagamu for the same thing and lautech . xxmaj its vital she completes her medical education in xxmaj nigeria . xxmaj its less expensive much</td>\n",
              "      <td>ham</td>\n",
              "    </tr>\n",
              "    <tr>\n",
              "      <td>xxbos xxmaj for xxmaj the xxmaj first xxmaj time xxmaj in xxmaj the xxmaj history ' xxmaj need ' ' xxmaj comfort ' xxmaj and ' xxmaj luxury ' xxmaj are xxmaj sold xxmaj at xxmaj same xxmaj price xxmaj in xxmaj india .. ! ! xxmaj onion - xxmaj rs . &lt; # &gt; xxmaj petrol - xxmaj rs . &lt; # &gt; xxmaj beer - xxmaj rs .</td>\n",
              "      <td>ham</td>\n",
              "    </tr>\n",
              "    <tr>\n",
              "      <td>xxbos xxmaj plz note : if anyone calling from a mobile xxmaj co. &amp; &amp; asks u to type # &lt; # &gt; or # &lt; # &gt; . xxmaj do not do so . xxmaj disconnect the call , coz it iz an attempt of ' terrorist ' to make use of the sim card no . xxmaj itz confirmd by nokia n motorola n has been verified by</td>\n",
              "      <td>ham</td>\n",
              "    </tr>\n",
              "    <tr>\n",
              "      <td>xxbos xxmaj plz note : if anyone calling from a mobile xxmaj co. &amp; &amp; asks u to type # &lt; # &gt; or # &lt; # &gt; . xxmaj do not do so . xxmaj disconnect the call , coz it iz an attempt of ' terrorist ' to make use of the sim card no . xxmaj itz confirmd by nokia n motorola n has been verified by</td>\n",
              "      <td>ham</td>\n",
              "    </tr>\n",
              "    <tr>\n",
              "      <td>xxbos i know you are thinkin malaria . xxmaj but relax , children ca nt handle malaria . xxmaj she would have been worse and its gastroenteritis . xxmaj if she takes enough to replace her loss her temp will reduce . xxmaj and if you give her malaria meds now she will just vomit . xxmaj its a self limiting illness she has which means in a few days</td>\n",
              "      <td>ham</td>\n",
              "    </tr>\n",
              "    <tr>\n",
              "      <td>xxbos xxmaj for you information , xxup ikea is spelled with all caps . xxmaj that is not yelling . when you thought i had left you , you were sitting on the bed among the mess when i came in . i said we were going after you got home from class . please do n't try and bullshit me . xxmaj it makes me want to listen to</td>\n",
              "      <td>ham</td>\n",
              "    </tr>\n",
              "    <tr>\n",
              "      <td>xxbos xxup hi xxup darlin xxup its xxup kate xxup are u xxup up xxup for xxup doin xxup somethin xxup tonight ? xxup im xxup going xxup to a xxup pub xxup called xxup the xxup swan xxup or xxup something xxup with xxup my xxup parents xxup for xxup one xxup drink xxup so xxup phone xxup me xxup if u xxup can</td>\n",
              "      <td>ham</td>\n",
              "    </tr>\n",
              "    <tr>\n",
              "      <td>xxbos xxup hellogorgeous , xxup hows u ? xxup my xxup fone xxup was xxup on xxup charge xxup lst xxup nitw xxup wen u xxup texd xxup me . xxup hopeu xxup ad a xxup nice xxup wkend xxup as xxup im xxup sure u xxup did xxup lookin xxup 4ward 2 c - xxup in u xxup 2mrw xxup luv xxup jaz</td>\n",
              "      <td>ham</td>\n",
              "    </tr>\n",
              "    <tr>\n",
              "      <td>xxbos xxmaj honeybee xxmaj said : * i 'm d xxmaj sweetest in d xxmaj world * xxmaj god xxmaj laughed &amp; &amp; xxmaj said : * xxmaj wait , u xxmaj havnt xxmaj met d xxmaj person xxmaj reading xxmaj this xxmaj msg * xxup moral : xxmaj even xxup god xxmaj can xxmaj crack xxmaj jokes ! xxup gm+gn+ge+gn : )</td>\n",
              "      <td>ham</td>\n",
              "    </tr>\n",
              "    <tr>\n",
              "      <td>xxbos xxmaj honeybee xxmaj said : * i 'm d xxmaj sweetest in d xxmaj world * xxmaj god xxmaj laughed &amp; &amp; xxmaj said : * xxmaj wait , u xxmaj havnt xxmaj met d xxmaj person xxmaj reading xxmaj this xxmaj msg * xxup moral : xxmaj even xxup god xxmaj can xxmaj crack xxmaj jokes ! xxup gm+gn+ge+gn : )</td>\n",
              "      <td>ham</td>\n",
              "    </tr>\n",
              "    <tr>\n",
              "      <td>xxbos i was just callin to say hi . xxmaj take care bruv !</td>\n",
              "      <td>ham</td>\n",
              "    </tr>\n",
              "    <tr>\n",
              "      <td>xxbos xxmaj how s the street where the end of library walk is ?</td>\n",
              "      <td>ham</td>\n",
              "    </tr>\n",
              "    <tr>\n",
              "      <td>xxbos yay ! finally lol . i missed our cinema trip last week :-(</td>\n",
              "      <td>ham</td>\n",
              "    </tr>\n",
              "    <tr>\n",
              "      <td>xxbos xxmaj ok then i will come to ur home after half an hour</td>\n",
              "      <td>ham</td>\n",
              "    </tr>\n",
              "  </tbody>\n",
              "</table>"
            ],
            "text/plain": [
              "<IPython.core.display.HTML object>"
            ]
          },
          "metadata": {
            "tags": []
          }
        }
      ]
    },
    {
      "metadata": {
        "id": "MRZhFu1jpJTK",
        "colab_type": "code",
        "outputId": "0044552d-68ae-478c-c903-535c70307ca4",
        "colab": {
          "base_uri": "https://localhost:8080/",
          "height": 34
        }
      },
      "cell_type": "code",
      "source": [
        "# take a look at the numbers. How many data is in your training and validation set\n",
        "len(data_clas.classes), len(data_clas.train_ds), len(data_clas.valid_ds)"
      ],
      "execution_count": 30,
      "outputs": [
        {
          "output_type": "execute_result",
          "data": {
            "text/plain": [
              "(2, 4438, 1109)"
            ]
          },
          "metadata": {
            "tags": []
          },
          "execution_count": 30
        }
      ]
    },
    {
      "metadata": {
        "id": "nP_AnHChjoBW",
        "colab_type": "text"
      },
      "cell_type": "markdown",
      "source": [
        "We can then create a model to classify those reviews and load the encoder we saved before."
      ]
    },
    {
      "metadata": {
        "id": "azSEQojljoBX",
        "colab_type": "code",
        "colab": {}
      },
      "cell_type": "code",
      "source": [
        "learn_clas = text_classifier_learner(data_clas, AWD_LSTM, drop_mult=0.5)\n",
        "learn_clas.load_encoder('fine_tuned_enc')#these are the weights of our pre-trained lm model\n",
        "learn_clas.freeze()"
      ],
      "execution_count": 0,
      "outputs": []
    },
    {
      "metadata": {
        "id": "2c-lSs_CjoBa",
        "colab_type": "code",
        "outputId": "e20cd876-0bc0-45ba-facc-e7fb21165393",
        "colab": {
          "base_uri": "https://localhost:8080/",
          "height": 34
        }
      },
      "cell_type": "code",
      "source": [
        "learn_clas.lr_find()"
      ],
      "execution_count": 32,
      "outputs": [
        {
          "output_type": "display_data",
          "data": {
            "text/html": [
              ""
            ],
            "text/plain": [
              "<IPython.core.display.HTML object>"
            ]
          },
          "metadata": {
            "tags": []
          }
        },
        {
          "output_type": "stream",
          "text": [
            "LR Finder is complete, type {learner_name}.recorder.plot() to see the graph.\n"
          ],
          "name": "stdout"
        }
      ]
    },
    {
      "metadata": {
        "id": "y3kLYjx4joBd",
        "colab_type": "code",
        "outputId": "9056776d-bcf2-47ed-e3f8-1017d7f4d62d",
        "colab": {
          "base_uri": "https://localhost:8080/",
          "height": 361
        }
      },
      "cell_type": "code",
      "source": [
        "learn_clas.recorder.plot()"
      ],
      "execution_count": 33,
      "outputs": [
        {
          "output_type": "display_data",
          "data": {
            "image/png": "[encoded data removed]",
            "text/plain": [
              "<Figure size 576x396 with 1 Axes>"
            ]
          },
          "metadata": {
            "tags": []
          }
        }
      ]
    },
    {
      "metadata": {
        "id": "31_xEn-mjoBg",
        "colab_type": "code",
        "outputId": "1ded7272-40ba-4bad-f412-db994121cb35",
        "colab": {
          "base_uri": "https://localhost:8080/",
          "height": 165
        }
      },
      "cell_type": "code",
      "source": [
        "learn_clas.fit_one_cycle(3, 3.31E-02, moms=(0.8,0.7))"
      ],
      "execution_count": 34,
      "outputs": [
        {
          "output_type": "display_data",
          "data": {
            "text/html": [
              "Total time: 00:31 <p><table border=\"1\" class=\"dataframe\">\n",
              "  <thead>\n",
              "    <tr style=\"text-align: left;\">\n",
              "      <th>epoch</th>\n",
              "      <th>train_loss</th>\n",
              "      <th>valid_loss</th>\n",
              "      <th>accuracy</th>\n",
              "      <th>time</th>\n",
              "    </tr>\n",
              "  </thead>\n",
              "  <tbody>\n",
              "    <tr>\n",
              "      <td>1</td>\n",
              "      <td>0.314159</td>\n",
              "      <td>0.123041</td>\n",
              "      <td>0.974752</td>\n",
              "      <td>00:10</td>\n",
              "    </tr>\n",
              "    <tr>\n",
              "      <td>2</td>\n",
              "      <td>0.254796</td>\n",
              "      <td>0.091927</td>\n",
              "      <td>0.972047</td>\n",
              "      <td>00:10</td>\n",
              "    </tr>\n",
              "    <tr>\n",
              "      <td>3</td>\n",
              "      <td>0.209476</td>\n",
              "      <td>0.089387</td>\n",
              "      <td>0.972047</td>\n",
              "      <td>00:10</td>\n",
              "    </tr>\n",
              "  </tbody>\n",
              "</table>"
            ],
            "text/plain": [
              "<IPython.core.display.HTML object>"
            ]
          },
          "metadata": {
            "tags": []
          }
        }
      ]
    },
    {
      "metadata": {
        "id": "HrzeapLmjoBr",
        "colab_type": "code",
        "colab": {}
      },
      "cell_type": "code",
      "source": [
        "learn_clas.save('first')"
      ],
      "execution_count": 0,
      "outputs": []
    },
    {
      "metadata": {
        "id": "5C7DCbUAjoBt",
        "colab_type": "code",
        "colab": {}
      },
      "cell_type": "code",
      "source": [
        "learn_clas.load('first');"
      ],
      "execution_count": 0,
      "outputs": []
    },
    {
      "metadata": {
        "id": "J2bOmxI4joCB",
        "colab_type": "code",
        "colab": {}
      },
      "cell_type": "code",
      "source": [
        "#some SMS-texts to play with\n",
        "spam1 = 'SMS. ac Sptv: The New Jersey Devils and the Detroit Red Wings play Ice Hockey. Correct or Incorrect? End? Reply END SPTV'\n",
        "\n",
        "spam2 = \"Free entry in 2 a wkly comp to win FA Cup!\"\n",
        "\n",
        "ham1 ='No, I was trying it all weekend'"
      ],
      "execution_count": 0,
      "outputs": []
    },
    {
      "metadata": {
        "id": "xMMXKsn4joCC",
        "colab_type": "code",
        "outputId": "d0d2245e-4fb8-4681-bbff-b8fa69afae5c",
        "colab": {
          "base_uri": "https://localhost:8080/",
          "height": 34
        }
      },
      "cell_type": "code",
      "source": [
        "learn_clas.predict(spam2) #check the prediction of one of above lines"
      ],
      "execution_count": 38,
      "outputs": [
        {
          "output_type": "execute_result",
          "data": {
            "text/plain": [
              "(<fastai.core.Category at 0x7f3e6ce73d30>, tensor(1), tensor([0.0956, 0.9044]))"
            ]
          },
          "metadata": {
            "tags": []
          },
          "execution_count": 38
        }
      ]
    },
    {
      "metadata": {
        "id": "lC_qzs6yjoCc",
        "colab_type": "text"
      },
      "cell_type": "markdown",
      "source": [
        "# Challenge"
      ]
    },
    {
      "metadata": {
        "id": "kXV-lpGEjoCc",
        "colab_type": "text"
      },
      "cell_type": "markdown",
      "source": [
        "- improve the classification try to get an accuracy above 0.97 \n",
        "   (change learning rate, unfreeze, do more epochs, built a better LM)\n",
        "   \n",
        "- make predictions on the test dataframe \n"
      ]
    },
    {
      "metadata": {
        "id": "CEIp0Uh7joCc",
        "colab_type": "code",
        "colab": {}
      },
      "cell_type": "code",
      "source": [
        "#Predict the  text messages which are in the test_df  if they are ham or spam.\n",
        "result_df = test_df\n",
        "\n",
        "result = []\n",
        "\n",
        "for index, row in test_df.iterrows():   \n",
        "    result.append(learn_clas.predict(row['text'])[0])"
      ],
      "execution_count": 0,
      "outputs": []
    },
    {
      "metadata": {
        "id": "kUfhyUlQuJeO",
        "colab_type": "code",
        "outputId": "f6218ede-cc1d-4350-877d-a02ab92e44d6",
        "colab": {
          "base_uri": "https://localhost:8080/",
          "height": 824
        }
      },
      "cell_type": "code",
      "source": [
        "#if your model is accurate you should predict 3 spam messages\n",
        "result_df['prediction'] = result\n",
        "result_df"
      ],
      "execution_count": 40,
      "outputs": [
        {
          "output_type": "execute_result",
          "data": {
            "text/html": [
              "<div>\n",
              "<style scoped>\n",
              "    .dataframe tbody tr th:only-of-type {\n",
              "        vertical-align: middle;\n",
              "    }\n",
              "\n",
              "    .dataframe tbody tr th {\n",
              "        vertical-align: top;\n",
              "    }\n",
              "\n",
              "    .dataframe thead th {\n",
              "        text-align: right;\n",
              "    }\n",
              "</style>\n",
              "<table border=\"1\" class=\"dataframe\">\n",
              "  <thead>\n",
              "    <tr style=\"text-align: right;\">\n",
              "      <th></th>\n",
              "      <th>label</th>\n",
              "      <th>text</th>\n",
              "      <th>prediction</th>\n",
              "    </tr>\n",
              "  </thead>\n",
              "  <tbody>\n",
              "    <tr>\n",
              "      <th>0</th>\n",
              "      <td>spam</td>\n",
              "      <td>Had your contract mobile 11 Mnths? Latest Moto...</td>\n",
              "      <td>spam</td>\n",
              "    </tr>\n",
              "    <tr>\n",
              "      <th>1</th>\n",
              "      <td>ham</td>\n",
              "      <td>No, I was trying it all weekend ;V</td>\n",
              "      <td>ham</td>\n",
              "    </tr>\n",
              "    <tr>\n",
              "      <th>2</th>\n",
              "      <td>ham</td>\n",
              "      <td>You know, wot people wear. T shirts, jumpers, ...</td>\n",
              "      <td>ham</td>\n",
              "    </tr>\n",
              "    <tr>\n",
              "      <th>3</th>\n",
              "      <td>ham</td>\n",
              "      <td>Cool, what time you think you can get here?</td>\n",
              "      <td>ham</td>\n",
              "    </tr>\n",
              "    <tr>\n",
              "      <th>4</th>\n",
              "      <td>ham</td>\n",
              "      <td>Wen did you get so spiritual and deep. That's ...</td>\n",
              "      <td>ham</td>\n",
              "    </tr>\n",
              "    <tr>\n",
              "      <th>5</th>\n",
              "      <td>ham</td>\n",
              "      <td>Have a safe trip to Nigeria. Wish you happines...</td>\n",
              "      <td>ham</td>\n",
              "    </tr>\n",
              "    <tr>\n",
              "      <th>6</th>\n",
              "      <td>ham</td>\n",
              "      <td>Hahaha..use your brain dear</td>\n",
              "      <td>ham</td>\n",
              "    </tr>\n",
              "    <tr>\n",
              "      <th>7</th>\n",
              "      <td>ham</td>\n",
              "      <td>Well keep in mind I've only got enough gas for...</td>\n",
              "      <td>ham</td>\n",
              "    </tr>\n",
              "    <tr>\n",
              "      <th>8</th>\n",
              "      <td>ham</td>\n",
              "      <td>Yeh. Indians was nice. Tho it did kane me off ...</td>\n",
              "      <td>ham</td>\n",
              "    </tr>\n",
              "    <tr>\n",
              "      <th>9</th>\n",
              "      <td>ham</td>\n",
              "      <td>Yes i have. So that's why u texted. Pshew...mi...</td>\n",
              "      <td>ham</td>\n",
              "    </tr>\n",
              "    <tr>\n",
              "      <th>10</th>\n",
              "      <td>ham</td>\n",
              "      <td>No. I meant the calculation is the same. That ...</td>\n",
              "      <td>ham</td>\n",
              "    </tr>\n",
              "    <tr>\n",
              "      <th>11</th>\n",
              "      <td>ham</td>\n",
              "      <td>Sorry, I'll call later</td>\n",
              "      <td>ham</td>\n",
              "    </tr>\n",
              "    <tr>\n",
              "      <th>12</th>\n",
              "      <td>ham</td>\n",
              "      <td>if you aren't here in the next  &amp;lt;#&amp;gt;  hou...</td>\n",
              "      <td>ham</td>\n",
              "    </tr>\n",
              "    <tr>\n",
              "      <th>13</th>\n",
              "      <td>ham</td>\n",
              "      <td>Anything lor. Juz both of us lor.</td>\n",
              "      <td>ham</td>\n",
              "    </tr>\n",
              "    <tr>\n",
              "      <th>14</th>\n",
              "      <td>ham</td>\n",
              "      <td>Get me out of this dump heap. My mom decided t...</td>\n",
              "      <td>ham</td>\n",
              "    </tr>\n",
              "    <tr>\n",
              "      <th>15</th>\n",
              "      <td>ham</td>\n",
              "      <td>Ok lor... Sony ericsson salesman... I ask shuh...</td>\n",
              "      <td>ham</td>\n",
              "    </tr>\n",
              "    <tr>\n",
              "      <th>16</th>\n",
              "      <td>ham</td>\n",
              "      <td>Ard 6 like dat lor.</td>\n",
              "      <td>ham</td>\n",
              "    </tr>\n",
              "    <tr>\n",
              "      <th>17</th>\n",
              "      <td>ham</td>\n",
              "      <td>Why don't you wait 'til at least wednesday to ...</td>\n",
              "      <td>ham</td>\n",
              "    </tr>\n",
              "    <tr>\n",
              "      <th>18</th>\n",
              "      <td>ham</td>\n",
              "      <td>Huh y lei...</td>\n",
              "      <td>ham</td>\n",
              "    </tr>\n",
              "    <tr>\n",
              "      <th>19</th>\n",
              "      <td>spam</td>\n",
              "      <td>REMINDER FROM O2: To get 2.50 pounds free call...</td>\n",
              "      <td>spam</td>\n",
              "    </tr>\n",
              "    <tr>\n",
              "      <th>20</th>\n",
              "      <td>spam</td>\n",
              "      <td>This is the 2nd time we have tried 2 contact u...</td>\n",
              "      <td>spam</td>\n",
              "    </tr>\n",
              "    <tr>\n",
              "      <th>21</th>\n",
              "      <td>ham</td>\n",
              "      <td>Will Ì_ b going to esplanade fr home?</td>\n",
              "      <td>ham</td>\n",
              "    </tr>\n",
              "    <tr>\n",
              "      <th>22</th>\n",
              "      <td>ham</td>\n",
              "      <td>Pity, * was in mood for that. So...any other s...</td>\n",
              "      <td>ham</td>\n",
              "    </tr>\n",
              "    <tr>\n",
              "      <th>23</th>\n",
              "      <td>ham</td>\n",
              "      <td>The guy did some bitching but I acted like i'd...</td>\n",
              "      <td>ham</td>\n",
              "    </tr>\n",
              "    <tr>\n",
              "      <th>24</th>\n",
              "      <td>ham</td>\n",
              "      <td>Rofl. Its true to its name</td>\n",
              "      <td>ham</td>\n",
              "    </tr>\n",
              "  </tbody>\n",
              "</table>\n",
              "</div>"
            ],
            "text/plain": [
              "   label                                               text prediction\n",
              "0   spam  Had your contract mobile 11 Mnths? Latest Moto...       spam\n",
              "1    ham                 No, I was trying it all weekend ;V        ham\n",
              "2    ham  You know, wot people wear. T shirts, jumpers, ...        ham\n",
              "3    ham        Cool, what time you think you can get here?        ham\n",
              "4    ham  Wen did you get so spiritual and deep. That's ...        ham\n",
              "5    ham  Have a safe trip to Nigeria. Wish you happines...        ham\n",
              "6    ham                        Hahaha..use your brain dear        ham\n",
              "7    ham  Well keep in mind I've only got enough gas for...        ham\n",
              "8    ham  Yeh. Indians was nice. Tho it did kane me off ...        ham\n",
              "9    ham  Yes i have. So that's why u texted. Pshew...mi...        ham\n",
              "10   ham  No. I meant the calculation is the same. That ...        ham\n",
              "11   ham                             Sorry, I'll call later        ham\n",
              "12   ham  if you aren't here in the next  &lt;#&gt;  hou...        ham\n",
              "13   ham                  Anything lor. Juz both of us lor.        ham\n",
              "14   ham  Get me out of this dump heap. My mom decided t...        ham\n",
              "15   ham  Ok lor... Sony ericsson salesman... I ask shuh...        ham\n",
              "16   ham                                Ard 6 like dat lor.        ham\n",
              "17   ham  Why don't you wait 'til at least wednesday to ...        ham\n",
              "18   ham                                       Huh y lei...        ham\n",
              "19  spam  REMINDER FROM O2: To get 2.50 pounds free call...       spam\n",
              "20  spam  This is the 2nd time we have tried 2 contact u...       spam\n",
              "21   ham              Will Ì_ b going to esplanade fr home?        ham\n",
              "22   ham  Pity, * was in mood for that. So...any other s...        ham\n",
              "23   ham  The guy did some bitching but I acted like i'd...        ham\n",
              "24   ham                         Rofl. Its true to its name        ham"
            ]
          },
          "metadata": {
            "tags": []
          },
          "execution_count": 40
        }
      ]
    },
    {
      "metadata": {
        "id": "oqyhFdQCsMaR",
        "colab_type": "code",
        "colab": {}
      },
      "cell_type": "code",
      "source": [
        ""
      ],
      "execution_count": 0,
      "outputs": []
    }
  ]
}